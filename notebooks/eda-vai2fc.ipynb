{
 "cells": [
  {
   "cell_type": "code",
   "execution_count": null,
   "metadata": {},
   "outputs": [],
   "source": [
    "# import libraries\n",
    "import pandas as pd\n",
    "import sqlite3\n",
    "from tqdm.notebook import tqdm"
   ]
  },
  {
   "cell_type": "code",
   "execution_count": null,
   "metadata": {},
   "outputs": [],
   "source": [
    "# Assign sqlite database to db variable\n",
    "db = sqlite3.connect('../data/hop_teaming.sqlite')"
   ]
  },
  {
   "cell_type": "code",
   "execution_count": null,
   "metadata": {
    "scrolled": true
   },
   "outputs": [],
   "source": [
    "# Check the tables in the database\n",
    "tables = db.execute(\"SELECT name FROM sqlite_master WHERE type='table';\")\n",
    "for table in tables:\n",
    "    print(table[0])"
   ]
  },
  {
   "cell_type": "code",
   "execution_count": null,
   "metadata": {},
   "outputs": [],
   "source": [
    "col = db.execute(\"PRAGMA table_info(referrals)\")\n",
    "print(col.fetchall())"
   ]
  },
  {
   "cell_type": "code",
   "execution_count": null,
   "metadata": {},
   "outputs": [],
   "source": [
    "query = \"\"\"\n",
    "WITH nashville_provider AS (\n",
    "    SELECT n.*\n",
    "\n",
    "    FROM nppes AS n\n",
    "\n",
    "    JOIN cbsa AS c\n",
    "        ON c.ZIP = CAST(n.zip_5 AS INTEGER)\n",
    ")\n",
    "\n",
    "SELECT COUNT(*) AS tot_rows\n",
    "    , COUNT(DISTINCT n.npi) AS unique_npis\n",
    "    , COUNT(CASE WHEN s.npi IS NOT NULL THEN s.npi ELSE NULL END) AS npis_with_specialty\n",
    "    , COUNT(CASE WHEN rto.to_npi IS NOT NULL THEN rto.to_npi ELSE NULL END) AS npis_who_refer_out\n",
    "    , COUNT(CASE WHEN rfrom.to_npi IS NOT NULL THEN rfrom.to_npi ELSE NULL END) AS npis_who_get_referrals\n",
    "    \n",
    "FROM nashville_providers AS n\n",
    "\n",
    "LEFT JOIN specialty AS s\n",
    "    ON s.npi = n.npi\n",
    "    \n",
    "LEFT JOIN nashville_referrals AS rto\n",
    "    ON rto.to_npi = n.npi\n",
    "    \n",
    "LEFT JOIN nashville_referrals AS rfrom\n",
    "    ON rfrom.from_npi = n.npi\n",
    "\"\"\""
   ]
  },
  {
   "cell_type": "code",
   "execution_count": null,
   "metadata": {},
   "outputs": [],
   "source": [
    "nashville_providers = pd.read_sql(query, db)"
   ]
  },
  {
   "cell_type": "code",
   "execution_count": null,
   "metadata": {},
   "outputs": [],
   "source": [
    "nashville_providers.head()"
   ]
  },
  {
   "cell_type": "code",
   "execution_count": null,
   "metadata": {},
   "outputs": [],
   "source": []
  }
 ],
 "metadata": {
  "kernelspec": {
   "display_name": "Python 3",
   "language": "python",
   "name": "python3"
  },
  "language_info": {
   "codemirror_mode": {
    "name": "ipython",
    "version": 3
   },
   "file_extension": ".py",
   "mimetype": "text/x-python",
   "name": "python",
   "nbconvert_exporter": "python",
   "pygments_lexer": "ipython3",
   "version": "3.8.3"
  }
 },
 "nbformat": 4,
 "nbformat_minor": 4
}
