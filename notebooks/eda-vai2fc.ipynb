{
 "cells": [
  {
   "cell_type": "code",
   "execution_count": 1,
   "metadata": {},
   "outputs": [],
   "source": [
    "# import libraries\n",
    "import pandas as pd\n",
    "import sqlite3\n",
    "from tqdm.notebook import tqdm"
   ]
  },
  {
   "cell_type": "code",
   "execution_count": 2,
   "metadata": {},
   "outputs": [],
   "source": [
    "# Assign sqlite database to db variable\n",
    "db = sqlite3.connect('../data/hop_teaming.sqlite')"
   ]
  },
  {
   "cell_type": "code",
   "execution_count": 3,
   "metadata": {
    "scrolled": true
   },
   "outputs": [
    {
     "name": "stdout",
     "output_type": "stream",
     "text": [
      "cbsa\n",
      "specialty\n",
      "referrals\n",
      "nppes\n",
      "nashville_referrals\n"
     ]
    }
   ],
   "source": [
    "# Check the tables in the database\n",
    "tables = db.execute(\"SELECT name FROM sqlite_master WHERE type='table';\")\n",
    "for table in tables:\n",
    "    print(table[0])"
   ]
  },
  {
   "cell_type": "code",
   "execution_count": 4,
   "metadata": {},
   "outputs": [
    {
     "name": "stdout",
     "output_type": "stream",
     "text": [
      "[(0, 'index', 'INTEGER', 0, None, 0), (1, 'from_npi', 'INTEGER', 0, None, 0), (2, 'to_npi', 'INTEGER', 0, None, 0), (3, 'patient_count', 'INTEGER', 0, None, 0), (4, 'transaction_count', 'INTEGER', 0, None, 0), (5, 'average_day_wait', 'REAL', 0, None, 0), (6, 'std_day_wait', 'REAL', 0, None, 0)]\n"
     ]
    }
   ],
   "source": [
    "col = db.execute(\"PRAGMA table_info(referrals)\")\n",
    "print(col.fetchall())"
   ]
  },
  {
   "cell_type": "code",
   "execution_count": 10,
   "metadata": {},
   "outputs": [],
   "source": [
    "query = \"\"\"\n",
    "WITH nashville_providers AS (\n",
    "    SELECT n.*\n",
    "\n",
    "    FROM nppes AS n\n",
    "\n",
    "    JOIN cbsa AS c\n",
    "        ON c.ZIP = CAST(n.zip_5 AS INTEGER)\n",
    ")\n",
    "\n",
    "SELECT COUNT(*) AS tot_rows\n",
    "    , COUNT(DISTINCT n.npi) AS unique_npis\n",
    "    , COUNT(DISTINCT(CASE WHEN s.npi IS NOT NULL THEN s.npi ELSE NULL END)) AS npis_with_specialty\n",
    "    , COUNT(DISTINCT(CASE WHEN rto.to_npi IS NOT NULL THEN rto.to_npi ELSE NULL END)) AS npis_who_refer_out\n",
    "    , COUNT(DISTINCT(CASE WHEN rfrom.to_npi IS NOT NULL THEN rfrom.to_npi ELSE NULL END)) AS npis_who_get_referrals\n",
    "    \n",
    "FROM nashville_providers AS n\n",
    "\n",
    "LEFT JOIN specialty AS s\n",
    "    ON s.npi = n.npi\n",
    "    \n",
    "LEFT JOIN nashville_referrals AS rto\n",
    "    ON rto.to_npi = n.npi\n",
    "    \n",
    "LEFT JOIN nashville_referrals AS rfrom\n",
    "    ON rfrom.from_npi = n.npi\n",
    "\"\"\""
   ]
  },
  {
   "cell_type": "code",
   "execution_count": 11,
   "metadata": {},
   "outputs": [],
   "source": [
    "nashville_providers = pd.read_sql(query, db)"
   ]
  },
  {
   "cell_type": "code",
   "execution_count": 12,
   "metadata": {},
   "outputs": [
    {
     "data": {
      "text/html": [
       "<div>\n",
       "<style scoped>\n",
       "    .dataframe tbody tr th:only-of-type {\n",
       "        vertical-align: middle;\n",
       "    }\n",
       "\n",
       "    .dataframe tbody tr th {\n",
       "        vertical-align: top;\n",
       "    }\n",
       "\n",
       "    .dataframe thead th {\n",
       "        text-align: right;\n",
       "    }\n",
       "</style>\n",
       "<table border=\"1\" class=\"dataframe\">\n",
       "  <thead>\n",
       "    <tr style=\"text-align: right;\">\n",
       "      <th></th>\n",
       "      <th>tot_rows</th>\n",
       "      <th>unique_npis</th>\n",
       "      <th>npis_with_specialty</th>\n",
       "      <th>npis_who_refer_out</th>\n",
       "      <th>npis_who_get_referrals</th>\n",
       "    </tr>\n",
       "  </thead>\n",
       "  <tbody>\n",
       "    <tr>\n",
       "      <th>0</th>\n",
       "      <td>179903132</td>\n",
       "      <td>38414</td>\n",
       "      <td>38414</td>\n",
       "      <td>8341</td>\n",
       "      <td>37867</td>\n",
       "    </tr>\n",
       "  </tbody>\n",
       "</table>\n",
       "</div>"
      ],
      "text/plain": [
       "    tot_rows  unique_npis  npis_with_specialty  npis_who_refer_out  \\\n",
       "0  179903132        38414                38414                8341   \n",
       "\n",
       "   npis_who_get_referrals  \n",
       "0                   37867  "
      ]
     },
     "execution_count": 12,
     "metadata": {},
     "output_type": "execute_result"
    }
   ],
   "source": [
    "nashville_providers"
   ]
  },
  {
   "cell_type": "code",
   "execution_count": null,
   "metadata": {},
   "outputs": [],
   "source": []
  }
 ],
 "metadata": {
  "kernelspec": {
   "display_name": "Python 3",
   "language": "python",
   "name": "python3"
  },
  "language_info": {
   "codemirror_mode": {
    "name": "ipython",
    "version": 3
   },
   "file_extension": ".py",
   "mimetype": "text/x-python",
   "name": "python",
   "nbconvert_exporter": "python",
   "pygments_lexer": "ipython3",
   "version": "3.8.3"
  }
 },
 "nbformat": 4,
 "nbformat_minor": 4
}
