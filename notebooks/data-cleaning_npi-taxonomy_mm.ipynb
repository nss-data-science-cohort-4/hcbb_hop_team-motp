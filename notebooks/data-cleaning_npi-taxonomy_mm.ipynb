{
 "cells": [
  {
   "cell_type": "code",
   "execution_count": 5,
   "metadata": {},
   "outputs": [],
   "source": [
    "import pandas as pd\n",
    "import sqlite3\n",
    "from tqdm.notebook import tqdm"
   ]
  },
  {
   "cell_type": "code",
   "execution_count": null,
   "metadata": {},
   "outputs": [],
   "source": [
    "npi_specialty = []"
   ]
  },
  {
   "cell_type": "code",
   "execution_count": null,
   "metadata": {},
   "outputs": [],
   "source": [
    "def get_primary_tax(row):\n",
    "    if row['Healthcare Provider Primary Taxonomy Switch_1'] == 'Y':\n",
    "        tax = row['Healthcare Provider Taxonomy Code_1']\n",
    "    elif row['Healthcare Provider Primary Taxonomy Switch_2'] == 'Y':\n",
    "        tax = row['Healthcare Provider Taxonomy Code_2']\n",
    "    elif row['Healthcare Provider Primary Taxonomy Switch_3'] == 'Y':\n",
    "        tax = row['Healthcare Provider Taxonomy Code_3']\n",
    "    elif row['Healthcare Provider Primary Taxonomy Switch_4'] == 'Y':\n",
    "        tax = row['Healthcare Provider Taxonomy Code_4']\n",
    "    elif row['Healthcare Provider Primary Taxonomy Switch_5'] == 'Y':\n",
    "        tax = row['Healthcare Provider Taxonomy Code_5']\n",
    "    elif row['Healthcare Provider Primary Taxonomy Switch_6'] == 'Y':\n",
    "        tax = row['Healthcare Provider Taxonomy Code_6']\n",
    "    elif row['Healthcare Provider Primary Taxonomy Switch_7'] == 'Y':\n",
    "        tax = row['Healthcare Provider Taxonomy Code_7']\n",
    "    elif row['Healthcare Provider Primary Taxonomy Switch_8'] == 'Y':\n",
    "        tax = row['Healthcare Provider Taxonomy Code_8']\n",
    "    elif row['Healthcare Provider Primary Taxonomy Switch_9'] == 'Y':\n",
    "        tax = row['Healthcare Provider Taxonomy Code_9']\n",
    "    elif row['Healthcare Provider Primary Taxonomy Switch_10'] == 'Y':\n",
    "        tax = row['Healthcare Provider Taxonomy Code_10']\n",
    "    elif row['Healthcare Provider Primary Taxonomy Switch_11'] == 'Y':\n",
    "        tax = row['Healthcare Provider Taxonomy Code_11']\n",
    "    elif row['Healthcare Provider Primary Taxonomy Switch_12'] == 'Y':\n",
    "        tax = row['Healthcare Provider Taxonomy Code_12']\n",
    "    elif row['Healthcare Provider Primary Taxonomy Switch_13'] == 'Y':\n",
    "        tax = row['Healthcare Provider Taxonomy Code_13']\n",
    "    elif row['Healthcare Provider Primary Taxonomy Switch_14'] == 'Y':\n",
    "        tax = row['Healthcare Provider Taxonomy Code_14']\n",
    "    elif row['Healthcare Provider Primary Taxonomy Switch_14'] == 'Y':\n",
    "        tax = row['Healthcare Provider Taxonomy Code_14']\n",
    "    else:        \n",
    "        tax = ''\n",
    "    return tax"
   ]
  },
  {
   "cell_type": "code",
   "execution_count": null,
   "metadata": {},
   "outputs": [],
   "source": [
    "#this produces a lot of warnings if you run it without the low_memory parameter set\n",
    "for chunk in tqdm(pd.read_csv('../data/npidata_pfile_20050523-20210207.csv', chunksize = 50000, low_memory=False)):\n",
    "    for index, row in chunk.iterrows():\n",
    "        npi = row['NPI']\n",
    "        primary_tax = get_primary_tax(row)\n",
    "        npi_specialty.append([npi, primary_tax])"
   ]
  },
  {
   "cell_type": "code",
   "execution_count": null,
   "metadata": {},
   "outputs": [],
   "source": [
    "npi_specialty = pd.DataFrame(npi_specialty)\n",
    "npi_specialty.columns = ['npi','primary_taxonomy']"
   ]
  },
  {
   "cell_type": "code",
   "execution_count": null,
   "metadata": {},
   "outputs": [],
   "source": [
    "tax_desc = pd.read_csv('../data/nucc_taxonomy_201.csv')"
   ]
  },
  {
   "cell_type": "code",
   "execution_count": null,
   "metadata": {},
   "outputs": [],
   "source": [
    "tax_desc = tax_desc[['Code','Classification']]"
   ]
  },
  {
   "cell_type": "code",
   "execution_count": null,
   "metadata": {},
   "outputs": [],
   "source": [
    "npi_specialty = npi_specialty.merge(tax_desc, how='left', left_on='primary_taxonomy', right_on = 'Code')"
   ]
  },
  {
   "cell_type": "code",
   "execution_count": null,
   "metadata": {},
   "outputs": [],
   "source": [
    "npi_specialty.drop(columns = ['Code'], inplace=True)"
   ]
  },
  {
   "cell_type": "code",
   "execution_count": null,
   "metadata": {},
   "outputs": [],
   "source": [
    "npi_specialty.to_csv('../data/npi_specialty.csv',index=False)"
   ]
  },
  {
   "cell_type": "code",
   "execution_count": 2,
   "metadata": {},
   "outputs": [],
   "source": [
    "#npi_specialty = pd.read_csv('../data/npi_specialty.csv')"
   ]
  },
  {
   "cell_type": "code",
   "execution_count": 3,
   "metadata": {},
   "outputs": [
    {
     "data": {
      "text/html": [
       "<div>\n",
       "<style scoped>\n",
       "    .dataframe tbody tr th:only-of-type {\n",
       "        vertical-align: middle;\n",
       "    }\n",
       "\n",
       "    .dataframe tbody tr th {\n",
       "        vertical-align: top;\n",
       "    }\n",
       "\n",
       "    .dataframe thead th {\n",
       "        text-align: right;\n",
       "    }\n",
       "</style>\n",
       "<table border=\"1\" class=\"dataframe\">\n",
       "  <thead>\n",
       "    <tr style=\"text-align: right;\">\n",
       "      <th></th>\n",
       "      <th>npi</th>\n",
       "      <th>primary_taxonomy</th>\n",
       "      <th>Classification</th>\n",
       "    </tr>\n",
       "  </thead>\n",
       "  <tbody>\n",
       "    <tr>\n",
       "      <th>0</th>\n",
       "      <td>1679576722</td>\n",
       "      <td>207X00000X</td>\n",
       "      <td>Orthopaedic Surgery</td>\n",
       "    </tr>\n",
       "    <tr>\n",
       "      <th>1</th>\n",
       "      <td>1588667638</td>\n",
       "      <td>207RC0000X</td>\n",
       "      <td>Internal Medicine</td>\n",
       "    </tr>\n",
       "    <tr>\n",
       "      <th>2</th>\n",
       "      <td>1497758544</td>\n",
       "      <td>251G00000X</td>\n",
       "      <td>Hospice Care, Community Based</td>\n",
       "    </tr>\n",
       "    <tr>\n",
       "      <th>3</th>\n",
       "      <td>1306849450</td>\n",
       "      <td>2085R0202X</td>\n",
       "      <td>Radiology</td>\n",
       "    </tr>\n",
       "    <tr>\n",
       "      <th>4</th>\n",
       "      <td>1215930367</td>\n",
       "      <td>207RH0003X</td>\n",
       "      <td>Internal Medicine</td>\n",
       "    </tr>\n",
       "    <tr>\n",
       "      <th>5</th>\n",
       "      <td>1023011178</td>\n",
       "      <td>251G00000X</td>\n",
       "      <td>Hospice Care, Community Based</td>\n",
       "    </tr>\n",
       "    <tr>\n",
       "      <th>6</th>\n",
       "      <td>1932102084</td>\n",
       "      <td>207RC0000X</td>\n",
       "      <td>Internal Medicine</td>\n",
       "    </tr>\n",
       "    <tr>\n",
       "      <th>7</th>\n",
       "      <td>1841293990</td>\n",
       "      <td>231H00000X</td>\n",
       "      <td>Audiologist</td>\n",
       "    </tr>\n",
       "    <tr>\n",
       "      <th>8</th>\n",
       "      <td>1750384806</td>\n",
       "      <td>207R00000X</td>\n",
       "      <td>Internal Medicine</td>\n",
       "    </tr>\n",
       "    <tr>\n",
       "      <th>9</th>\n",
       "      <td>1669475711</td>\n",
       "      <td>208000000X</td>\n",
       "      <td>Pediatrics</td>\n",
       "    </tr>\n",
       "  </tbody>\n",
       "</table>\n",
       "</div>"
      ],
      "text/plain": [
       "          npi primary_taxonomy                 Classification\n",
       "0  1679576722       207X00000X            Orthopaedic Surgery\n",
       "1  1588667638       207RC0000X              Internal Medicine\n",
       "2  1497758544       251G00000X  Hospice Care, Community Based\n",
       "3  1306849450       2085R0202X                      Radiology\n",
       "4  1215930367       207RH0003X              Internal Medicine\n",
       "5  1023011178       251G00000X  Hospice Care, Community Based\n",
       "6  1932102084       207RC0000X              Internal Medicine\n",
       "7  1841293990       231H00000X                    Audiologist\n",
       "8  1750384806       207R00000X              Internal Medicine\n",
       "9  1669475711       208000000X                     Pediatrics"
      ]
     },
     "execution_count": 3,
     "metadata": {},
     "output_type": "execute_result"
    }
   ],
   "source": [
    "npi_specialty.head(10)"
   ]
  },
  {
   "cell_type": "code",
   "execution_count": 6,
   "metadata": {},
   "outputs": [],
   "source": [
    "db = sqlite3.connect('../data/hop_teaming.sqlite')"
   ]
  },
  {
   "cell_type": "code",
   "execution_count": 7,
   "metadata": {},
   "outputs": [
    {
     "data": {
      "application/vnd.jupyter.widget-view+json": {
       "model_id": "5377db51f0da4969ae1d3deca1ca26d0",
       "version_major": 2,
       "version_minor": 0
      },
      "text/plain": [
       "HBox(children=(HTML(value=''), FloatProgress(value=1.0, bar_style='info', layout=Layout(width='20px'), max=1.0…"
      ]
     },
     "metadata": {},
     "output_type": "display_data"
    },
    {
     "name": "stdout",
     "output_type": "stream",
     "text": [
      "\n"
     ]
    }
   ],
   "source": [
    "for chunk in tqdm(pd.read_csv('../data/npi_specialty.csv', chunksize = 50000)):\n",
    "    chunk.to_sql('specialty', db, if_exists = 'append', index = False)            # Append the chunk to a calls table"
   ]
  },
  {
   "cell_type": "code",
   "execution_count": 8,
   "metadata": {},
   "outputs": [],
   "source": [
    "query = '''\n",
    "select * from specialty limit 10\n",
    "'''"
   ]
  },
  {
   "cell_type": "code",
   "execution_count": 14,
   "metadata": {},
   "outputs": [],
   "source": [
    "test = pd.read_sql(query,db)"
   ]
  },
  {
   "cell_type": "code",
   "execution_count": 15,
   "metadata": {},
   "outputs": [
    {
     "data": {
      "text/html": [
       "<div>\n",
       "<style scoped>\n",
       "    .dataframe tbody tr th:only-of-type {\n",
       "        vertical-align: middle;\n",
       "    }\n",
       "\n",
       "    .dataframe tbody tr th {\n",
       "        vertical-align: top;\n",
       "    }\n",
       "\n",
       "    .dataframe thead th {\n",
       "        text-align: right;\n",
       "    }\n",
       "</style>\n",
       "<table border=\"1\" class=\"dataframe\">\n",
       "  <thead>\n",
       "    <tr style=\"text-align: right;\">\n",
       "      <th></th>\n",
       "      <th>count(*)</th>\n",
       "      <th>count(distinct npi)</th>\n",
       "    </tr>\n",
       "  </thead>\n",
       "  <tbody>\n",
       "    <tr>\n",
       "      <th>0</th>\n",
       "      <td>6714038</td>\n",
       "      <td>6714038</td>\n",
       "    </tr>\n",
       "  </tbody>\n",
       "</table>\n",
       "</div>"
      ],
      "text/plain": [
       "   count(*)  count(distinct npi)\n",
       "0   6714038              6714038"
      ]
     },
     "execution_count": 15,
     "metadata": {},
     "output_type": "execute_result"
    }
   ],
   "source": [
    "test"
   ]
  },
  {
   "cell_type": "code",
   "execution_count": 12,
   "metadata": {},
   "outputs": [
    {
     "data": {
      "text/plain": [
       "(10, 3)"
      ]
     },
     "execution_count": 12,
     "metadata": {},
     "output_type": "execute_result"
    }
   ],
   "source": [
    "test.shape"
   ]
  },
  {
   "cell_type": "code",
   "execution_count": 13,
   "metadata": {},
   "outputs": [],
   "source": [
    "query = '''\n",
    "select count(*), count(distinct npi) from specialty\n",
    "'''"
   ]
  },
  {
   "cell_type": "code",
   "execution_count": null,
   "metadata": {},
   "outputs": [],
   "source": []
  }
 ],
 "metadata": {
  "kernelspec": {
   "display_name": "Python 3",
   "language": "python",
   "name": "python3"
  },
  "language_info": {
   "codemirror_mode": {
    "name": "ipython",
    "version": 3
   },
   "file_extension": ".py",
   "mimetype": "text/x-python",
   "name": "python",
   "nbconvert_exporter": "python",
   "pygments_lexer": "ipython3",
   "version": "3.8.3"
  }
 },
 "nbformat": 4,
 "nbformat_minor": 4
}
