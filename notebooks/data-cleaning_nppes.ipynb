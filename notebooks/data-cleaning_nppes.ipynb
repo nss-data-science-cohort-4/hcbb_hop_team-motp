{
 "cells": [
  {
   "cell_type": "markdown",
   "metadata": {},
   "source": [
    "# Get NPPES 2020 Data"
   ]
  },
  {
   "cell_type": "code",
   "execution_count": null,
   "metadata": {},
   "outputs": [],
   "source": [
    "# import libraries\n",
    "import pandas as pd\n",
    "import re\n",
    "import sqlite3\n",
    "from tqdm.notebook import tqdm"
   ]
  },
  {
   "cell_type": "markdown",
   "metadata": {},
   "source": [
    "### Identify the columns we need"
   ]
  },
  {
   "cell_type": "code",
   "execution_count": null,
   "metadata": {},
   "outputs": [],
   "source": [
    "# import the file header for the NPI data as a dataframe\n",
    "nppes_header = pd.read_csv('../data/nppes/npidata_pfile_20050523-20210207_FileHeader.csv')"
   ]
  },
  {
   "cell_type": "code",
   "execution_count": null,
   "metadata": {},
   "outputs": [],
   "source": [
    "# write the file header columns to a list\n",
    "nppes_headers_list = nppes_header.columns.to_list()"
   ]
  },
  {
   "cell_type": "code",
   "execution_count": null,
   "metadata": {},
   "outputs": [],
   "source": [
    "# write that list back to a dataframe in a column called 'variables'\n",
    "nppes_headers_list = pd.DataFrame(nppes_headers_list, columns = ['variables'])"
   ]
  },
  {
   "cell_type": "code",
   "execution_count": null,
   "metadata": {},
   "outputs": [],
   "source": [
    "# Check out the variables generated\n",
    "nppes_headers_list"
   ]
  },
  {
   "cell_type": "code",
   "execution_count": null,
   "metadata": {},
   "outputs": [],
   "source": [
    "# Select only the columns we want\n",
    "nppes_headers_vars = nppes_headers_list[nppes_headers_list['variables'].isin([\n",
    "    'NPI',\n",
    "    'Entity Type Code',\n",
    "    'Provider Organization Name (Legal Business Name)',\n",
    "    'Provider Last Name (Legal Name)',\n",
    "    'Provider First Name',\n",
    "    'Provider Middle Name',\n",
    "    'Provider Name Prefix Text',\n",
    "    'Provider Name Suffix Text',\n",
    "    'Provider Credential Text',\n",
    "    'Provider First Line Business Practice Location Address',\n",
    "    'Provider Second Line Business Practice Location Address',\n",
    "    'Provider Business Practice Location Address City Name',\n",
    "    'Provider Business Practice Location Address State Name',\n",
    "    'Provider Business Practice Location Address Postal Code']) == True]\n",
    "# Maggi will get the ‘Healthcare Provider Taxonomy Code *’ fields, with primary type, per NPI\n",
    "# We'll put that in a different table and join that later"
   ]
  },
  {
   "cell_type": "code",
   "execution_count": null,
   "metadata": {},
   "outputs": [],
   "source": [
    "# Check out the variables\n",
    "nppes_headers_vars"
   ]
  },
  {
   "cell_type": "code",
   "execution_count": null,
   "metadata": {},
   "outputs": [],
   "source": [
    "# Write it to a list\n",
    "nppes_headers_vars = nppes_headers_vars.variables.to_list()"
   ]
  },
  {
   "cell_type": "code",
   "execution_count": null,
   "metadata": {},
   "outputs": [],
   "source": [
    "# Check out that list\n",
    "nppes_headers_vars"
   ]
  },
  {
   "cell_type": "markdown",
   "metadata": {},
   "source": [
    "### Create a database to hold all the things"
   ]
  },
  {
   "cell_type": "code",
   "execution_count": null,
   "metadata": {},
   "outputs": [],
   "source": [
    "# Create a database or connect to an existing one\n",
    "db = sqlite3.connect('../data/hop_teaming.sqlite')"
   ]
  },
  {
   "cell_type": "code",
   "execution_count": null,
   "metadata": {},
   "outputs": [],
   "source": [
    "# If you need to rewrite the table...\n",
    "cursor = db.cursor()"
   ]
  },
  {
   "cell_type": "code",
   "execution_count": null,
   "metadata": {},
   "outputs": [],
   "source": [
    "# Drop the table and return a line that says that it's gone\n",
    "cursor.execute(\"DROP TABLE nppes\")\n",
    "print(\"Table dropped...\")"
   ]
  },
  {
   "cell_type": "code",
   "execution_count": null,
   "metadata": {
    "scrolled": false
   },
   "outputs": [],
   "source": [
    "# Iterate over the dataframe, using only the selected columns, and build a table\n",
    "# With a chunksize of 5,000, it will take 1,343 loops to build the database\n",
    "# There will be a pink warning re: column types which can probably be disregarded\n",
    "for chunk in tqdm(pd.read_csv('../data/nppes/npidata_pfile_20050523-20210207.csv', usecols = nppes_headers_vars, chunksize = 5000)):\n",
    "    chunk.columns = [re.sub(r'\\ \\(|\\)|\\ ', '_', x.lower()) for x in chunk.columns]      # Clean up the column names\n",
    "    chunk.to_sql('nppes', db, if_exists = 'append', index = False)            # Append the chunk to a calls table"
   ]
  },
  {
   "cell_type": "markdown",
   "metadata": {},
   "source": [
    "### Rename the column headers"
   ]
  },
  {
   "cell_type": "code",
   "execution_count": null,
   "metadata": {},
   "outputs": [],
   "source": [
    "# Get a list of all of the existing column headers\n",
    "temp = db.execute(\"PRAGMA table_info(nppes)\").fetchall()\n",
    "old_headers = [e[1] for e in temp]\n",
    "new_headers = [\n",
    "    'npi',\n",
    "    'entity_type_code',\n",
    "    'provider_organization_name',\n",
    "    'provider_last_name',\n",
    "    'provider_first_name',\n",
    "    'provider_middle_name',\n",
    "    'provider_name_prefix',\n",
    "    'provider_name_suffix',\n",
    "    'provider_credential',\n",
    "    'address_01',\n",
    "    'address_02',\n",
    "    'city',\n",
    "    'state',\n",
    "    'zip_9'\n",
    "]\n",
    "\n",
    "headers = dict(zip(old_headers, new_headers))\n",
    "headers"
   ]
  },
  {
   "cell_type": "code",
   "execution_count": null,
   "metadata": {},
   "outputs": [],
   "source": [
    "headers.items()"
   ]
  },
  {
   "cell_type": "code",
   "execution_count": null,
   "metadata": {},
   "outputs": [],
   "source": [
    "for header in headers.items():\n",
    "    cursor.execute(\"ALTER TABLE nppes RENAME COLUMN \"+list(header)[0]+\" TO \"+list(header)[1]+\";\")"
   ]
  },
  {
   "cell_type": "code",
   "execution_count": null,
   "metadata": {},
   "outputs": [],
   "source": [
    "# Check to see if the column names have been updated\n",
    "db.execute(\"PRAGMA table_info(nppes)\").fetchall()"
   ]
  },
  {
   "cell_type": "markdown",
   "metadata": {},
   "source": [
    "### Add a 5-digit zip code column"
   ]
  },
  {
   "cell_type": "code",
   "execution_count": null,
   "metadata": {},
   "outputs": [],
   "source": [
    "add_zip = \"ALTER TABLE nppes ADD COLUMN zip_5 varchar(5)\"\n",
    "\n",
    "cursor.execute(add_zip)"
   ]
  },
  {
   "cell_type": "code",
   "execution_count": null,
   "metadata": {},
   "outputs": [],
   "source": [
    "calc_zip = \"UPDATE nppes SET zip_5 = SUBSTR(zip_9, 1, 5)\"\n",
    "\n",
    "cursor.execute(calc_zip)"
   ]
  },
  {
   "cell_type": "markdown",
   "metadata": {},
   "source": [
    "### Before closing the database, commit all of the changes"
   ]
  },
  {
   "cell_type": "code",
   "execution_count": null,
   "metadata": {},
   "outputs": [],
   "source": [
    "# This will ensure that the changes stick after closing the connection\n",
    "db.commit()"
   ]
  },
  {
   "cell_type": "code",
   "execution_count": null,
   "metadata": {},
   "outputs": [],
   "source": [
    "# Write a test query\n",
    "query = '''\n",
    "SELECT *\n",
    "FROM nppes\n",
    "WHERE zip_5 IS NOT NULL\n",
    "LIMIT 10\n",
    "'''"
   ]
  },
  {
   "cell_type": "code",
   "execution_count": null,
   "metadata": {},
   "outputs": [],
   "source": [
    "# Write the results to a test dataframe\n",
    "test = pd.read_sql(query, db)"
   ]
  },
  {
   "cell_type": "code",
   "execution_count": null,
   "metadata": {},
   "outputs": [],
   "source": [
    "# Check out the test dataframe\n",
    "test"
   ]
  },
  {
   "cell_type": "code",
   "execution_count": null,
   "metadata": {},
   "outputs": [],
   "source": [
    "db.close()"
   ]
  },
  {
   "cell_type": "code",
   "execution_count": null,
   "metadata": {},
   "outputs": [],
   "source": []
  }
 ],
 "metadata": {
  "kernelspec": {
   "display_name": "Python 3",
   "language": "python",
   "name": "python3"
  },
  "language_info": {
   "codemirror_mode": {
    "name": "ipython",
    "version": 3
   },
   "file_extension": ".py",
   "mimetype": "text/x-python",
   "name": "python",
   "nbconvert_exporter": "python",
   "pygments_lexer": "ipython3",
   "version": "3.8.3"
  }
 },
 "nbformat": 4,
 "nbformat_minor": 4
}
