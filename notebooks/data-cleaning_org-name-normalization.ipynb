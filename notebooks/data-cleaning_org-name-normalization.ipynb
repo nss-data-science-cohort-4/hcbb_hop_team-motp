{
 "cells": [
  {
   "cell_type": "code",
   "execution_count": 1,
   "metadata": {},
   "outputs": [],
   "source": [
    "import pandas as pd\n",
    "import sqlite3"
   ]
  },
  {
   "cell_type": "code",
   "execution_count": 2,
   "metadata": {},
   "outputs": [],
   "source": [
    "# Set the display to show more rows and columns\n",
    "pd.options.display.max_rows = 500\n",
    "pd.options.display.max_columns = 200"
   ]
  },
  {
   "cell_type": "code",
   "execution_count": 3,
   "metadata": {},
   "outputs": [],
   "source": [
    "# Assign sqlite database to db variable\n",
    "db = sqlite3.connect('../data/hop_teaming.sqlite')"
   ]
  },
  {
   "cell_type": "code",
   "execution_count": 4,
   "metadata": {},
   "outputs": [],
   "source": [
    "org_names = \"\"\"\n",
    "    SELECT n.npi\n",
    "        , provider_organization_name AS org_name\n",
    "        , address_01\n",
    "        , address_02\n",
    "        , city\n",
    "        , state\n",
    "        , zip_5\n",
    "        , s.Classification AS specialty\n",
    "\n",
    "    FROM nppes AS n\n",
    "\n",
    "    JOIN cbsa AS c\n",
    "        ON c.ZIP = CAST(n.zip_5 AS INTEGER)\n",
    "    \n",
    "    LEFT JOIN specialty AS s\n",
    "        ON s.npi = n.npi\n",
    "    \n",
    "    WHERE n.entity_type_code = 2\n",
    "\"\"\"\n",
    "org_names = pd.read_sql(org_names, db)"
   ]
  },
  {
   "cell_type": "code",
   "execution_count": 5,
   "metadata": {},
   "outputs": [
    {
     "name": "stdout",
     "output_type": "stream",
     "text": [
      "<class 'pandas.core.frame.DataFrame'>\n",
      "RangeIndex: 7574 entries, 0 to 7573\n",
      "Data columns (total 8 columns):\n",
      " #   Column      Non-Null Count  Dtype \n",
      "---  ------      --------------  ----- \n",
      " 0   npi         7574 non-null   int64 \n",
      " 1   org_name    7574 non-null   object\n",
      " 2   address_01  7574 non-null   object\n",
      " 3   address_02  2401 non-null   object\n",
      " 4   city        7574 non-null   object\n",
      " 5   state       7574 non-null   object\n",
      " 6   zip_5       7574 non-null   object\n",
      " 7   specialty   7489 non-null   object\n",
      "dtypes: int64(1), object(7)\n",
      "memory usage: 473.5+ KB\n"
     ]
    }
   ],
   "source": [
    "org_names.info()"
   ]
  },
  {
   "cell_type": "code",
   "execution_count": null,
   "metadata": {},
   "outputs": [],
   "source": []
  }
 ],
 "metadata": {
  "kernelspec": {
   "display_name": "Python 3",
   "language": "python",
   "name": "python3"
  },
  "language_info": {
   "codemirror_mode": {
    "name": "ipython",
    "version": 3
   },
   "file_extension": ".py",
   "mimetype": "text/x-python",
   "name": "python",
   "nbconvert_exporter": "python",
   "pygments_lexer": "ipython3",
   "version": "3.8.3"
  }
 },
 "nbformat": 4,
 "nbformat_minor": 4
}
