{
 "cells": [
  {
   "cell_type": "markdown",
   "metadata": {},
   "source": [
    "# Base Referral Dataset"
   ]
  },
  {
   "cell_type": "markdown",
   "metadata": {},
   "source": [
    "### FIlter down referrals from Nashville Providers to Nashville Organizations that are Acute Care Hospitals"
   ]
  },
  {
   "cell_type": "code",
   "execution_count": 1,
   "metadata": {},
   "outputs": [],
   "source": [
    "# import libraries\n",
    "import pandas as pd\n",
    "import sqlite3\n",
    "from tqdm.notebook import tqdm\n",
    "\n",
    "# Set the display to show more rows and columns\n",
    "pd.options.display.max_rows = 500\n",
    "pd.options.display.max_columns = 200"
   ]
  },
  {
   "cell_type": "code",
   "execution_count": 2,
   "metadata": {},
   "outputs": [],
   "source": [
    "# Assign sqlite database to db variable\n",
    "db = sqlite3.connect('../data/hop_teaming.sqlite')"
   ]
  },
  {
   "cell_type": "code",
   "execution_count": 3,
   "metadata": {},
   "outputs": [],
   "source": [
    "# Write a query to get every unique from-to NPI pair where\n",
    "# The from_npi is an individual provider\n",
    "# The to_npi is an organization\n",
    "# Both of the NPIs are located in the Nashville CBSA\n",
    "# Average day wait >= 2 to filter out emergency referrals\n",
    "\n",
    "nashville_referrals_normalised_query = \"\"\"\n",
    "WITH nashville_providers AS (\n",
    "    SELECT n.*\n",
    "        , s.Classification AS specialty\n",
    "        , h.*\n",
    "\n",
    "    FROM nppes AS n\n",
    "\n",
    "    JOIN cbsa AS c\n",
    "        ON c.ZIP = CAST(n.zip_5 AS INTEGER)\n",
    "    \n",
    "    LEFT JOIN specialty AS s\n",
    "        ON s.npi = n.npi\n",
    "        \n",
    "    LEFT JOIN hospital_names AS h\n",
    "        ON n.npi = h.to_npi        \n",
    "        \n",
    "    WHERE n.state IN ('TN', 'TENNESSEE')\n",
    ")\n",
    "\n",
    "SELECT r.*\n",
    ", CAST(n2.zip_5 AS INTEGER) AS from_zip\n",
    ", n2.specialty AS from_npi_specialty\n",
    ", n2.entity_type_code AS from_entity_type_code\n",
    ", CAST(n.zip_5 AS INTEGER) AS to_zip\n",
    ", n.specialty AS to_npi_specialty\n",
    ", n.entity_type_code AS to_entity_type_code\n",
    ", n.to_facility\n",
    ", n.to_facility_group\n",
    ", n.to_facility_name_normalised\n",
    "\n",
    "FROM referrals AS r\n",
    "\n",
    "JOIN nashville_providers AS n\n",
    "    ON n.npi = r.to_npi\n",
    "\n",
    "JOIN nashville_providers AS n2\n",
    "    ON n2.npi = r.from_npi\n",
    "\n",
    "WHERE n.entity_type_code = 2 -- only get referrals made *to* organizations\n",
    "AND n2.entity_type_code = 1 -- only get referrrals made *by* individuals\n",
    "AND n.specialty = 'General Acute Care Hospital' -- only get referrals to acute care hospitals\n",
    "--AND r.average_day_wait >= 2 -- filter out emergency referrals\n",
    "\n",
    "\"\"\"\n",
    "nashville_referrals_normalised = pd.read_sql(nashville_referrals_normalised_query, db)"
   ]
  },
  {
   "cell_type": "code",
   "execution_count": 4,
   "metadata": {},
   "outputs": [
    {
     "name": "stdout",
     "output_type": "stream",
     "text": [
      "<class 'pandas.core.frame.DataFrame'>\n",
      "RangeIndex: 6436 entries, 0 to 6435\n",
      "Data columns (total 16 columns):\n",
      " #   Column                       Non-Null Count  Dtype  \n",
      "---  ------                       --------------  -----  \n",
      " 0   index                        6436 non-null   int64  \n",
      " 1   from_npi                     6436 non-null   int64  \n",
      " 2   to_npi                       6436 non-null   int64  \n",
      " 3   patient_count                6436 non-null   int64  \n",
      " 4   transaction_count            6436 non-null   int64  \n",
      " 5   average_day_wait             6436 non-null   float64\n",
      " 6   std_day_wait                 6436 non-null   float64\n",
      " 7   from_zip                     6436 non-null   int64  \n",
      " 8   from_npi_specialty           6425 non-null   object \n",
      " 9   from_entity_type_code        6436 non-null   float64\n",
      " 10  to_zip                       6436 non-null   int64  \n",
      " 11  to_npi_specialty             6436 non-null   object \n",
      " 12  to_entity_type_code          6436 non-null   float64\n",
      " 13  to_facility                  6436 non-null   object \n",
      " 14  to_facility_group            6436 non-null   object \n",
      " 15  to_facility_name_normalised  6436 non-null   object \n",
      "dtypes: float64(4), int64(7), object(5)\n",
      "memory usage: 804.6+ KB\n"
     ]
    }
   ],
   "source": [
    "nashville_referrals_normalised.info()"
   ]
  },
  {
   "cell_type": "code",
   "execution_count": null,
   "metadata": {},
   "outputs": [],
   "source": [
    "nashville_referrals_normalised.to_csv('../data/nashville_referrals_normalised_only_hospitals_any_avg_day_wait.csv')"
   ]
  }
 ],
 "metadata": {
  "kernelspec": {
   "display_name": "Python 3",
   "language": "python",
   "name": "python3"
  },
  "language_info": {
   "codemirror_mode": {
    "name": "ipython",
    "version": 3
   },
   "file_extension": ".py",
   "mimetype": "text/x-python",
   "name": "python",
   "nbconvert_exporter": "python",
   "pygments_lexer": "ipython3",
   "version": "3.8.3"
  }
 },
 "nbformat": 4,
 "nbformat_minor": 4
}
