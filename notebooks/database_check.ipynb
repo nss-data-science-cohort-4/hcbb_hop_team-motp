{
 "cells": [
  {
   "cell_type": "markdown",
   "metadata": {},
   "source": [
    "# Database Check\n",
    "\n",
    "*Some code to grab database metadata including table names and columns.*"
   ]
  },
  {
   "cell_type": "code",
   "execution_count": null,
   "metadata": {},
   "outputs": [],
   "source": [
    "import sqlite3\n",
    "import pandas as pd"
   ]
  },
  {
   "cell_type": "code",
   "execution_count": null,
   "metadata": {},
   "outputs": [],
   "source": [
    "# Assign sqlite database to db variable\n",
    "db = sqlite3.connect('../data/hop_teaming.sqlite')"
   ]
  },
  {
   "cell_type": "code",
   "execution_count": null,
   "metadata": {},
   "outputs": [],
   "source": [
    "# Create a list of all of the tables in the database and print it\n",
    "tables = db.execute(\"SELECT name FROM sqlite_master WHERE type='table';\")\n",
    "all_tables = []\n",
    "for table in tables:\n",
    "    all_tables = all_tables + list(table[0].split(\" \"))\n",
    "\n",
    "print(all_tables)"
   ]
  },
  {
   "cell_type": "code",
   "execution_count": null,
   "metadata": {},
   "outputs": [],
   "source": [
    "# Return a list of tuples, each with a table and all of its column names\n",
    "table_cols = []\n",
    "\n",
    "for table in all_tables:\n",
    "    temp = db.execute(\"PRAGMA table_info(\"+table+\")\").fetchall()\n",
    "    temp = tuple(['table name: ' + table] + [[e[1] for e in temp]])\n",
    "    table_cols.append(temp)\n",
    "\n",
    "print(table_cols)"
   ]
  },
  {
   "cell_type": "code",
   "execution_count": null,
   "metadata": {},
   "outputs": [],
   "source": [
    "# Return the column names for the database - this is messier so commenting it out here\n",
    "# table_cols = db.execute(\"SELECT sql FROM sqlite_master WHERE type = 'table';\")\n",
    "# for table_col in table_cols:\n",
    "    # print(table_col)"
   ]
  }
 ],
 "metadata": {
  "kernelspec": {
   "display_name": "Python 3",
   "language": "python",
   "name": "python3"
  },
  "language_info": {
   "codemirror_mode": {
    "name": "ipython",
    "version": 3
   },
   "file_extension": ".py",
   "mimetype": "text/x-python",
   "name": "python",
   "nbconvert_exporter": "python",
   "pygments_lexer": "ipython3",
   "version": "3.8.3"
  }
 },
 "nbformat": 4,
 "nbformat_minor": 4
}
