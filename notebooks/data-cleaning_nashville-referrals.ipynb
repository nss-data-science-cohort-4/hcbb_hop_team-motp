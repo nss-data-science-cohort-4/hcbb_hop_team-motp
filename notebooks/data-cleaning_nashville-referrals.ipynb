{
 "cells": [
  {
   "cell_type": "markdown",
   "metadata": {},
   "source": [
    "# Create a table that only contains"
   ]
  },
  {
   "cell_type": "code",
   "execution_count": 1,
   "metadata": {},
   "outputs": [],
   "source": [
    "# import libraries\n",
    "import pandas as pd\n",
    "import sqlite3"
   ]
  },
  {
   "cell_type": "code",
   "execution_count": 2,
   "metadata": {},
   "outputs": [],
   "source": [
    "# Assign sqlite database to db variable\n",
    "db = sqlite3.connect('../data/hop_teaming.sqlite')"
   ]
  },
  {
   "cell_type": "code",
   "execution_count": 3,
   "metadata": {},
   "outputs": [],
   "source": [
    "# Write a query to get all referrals from Nashville providers\n",
    "# AND all referrals to Nashville providers\n",
    "query = \"\"\"\n",
    "SELECT r.*\n",
    "\n",
    "FROM referrals AS r\n",
    "\n",
    "JOIN nppes AS n1\n",
    "    ON r.to_npi = n1.npi\n",
    "\n",
    "JOIN cbsa AS c\n",
    "    ON c.ZIP = n1.zip_5\n",
    "\n",
    "WHERE n1.state IN ('TN', 'TENNESSEE')\n",
    "\n",
    "UNION\n",
    "\n",
    "SELECT r.*\n",
    "\n",
    "FROM referrals AS r\n",
    "\n",
    "LEFT JOIN nppes AS n2\n",
    "    ON r.from_npi = n2.npi\n",
    "\n",
    "JOIN cbsa AS c\n",
    "    ON c.ZIP = n2.zip_5\n",
    "\n",
    "WHERE n2.state IN ('TN', 'TENNESSEE')\n",
    "\"\"\""
   ]
  },
  {
   "cell_type": "code",
   "execution_count": 4,
   "metadata": {},
   "outputs": [],
   "source": [
    "# Create a pandas dataframe with the contents of the query above\n",
    "nashville_providers = pd.read_sql(query, db)"
   ]
  },
  {
   "cell_type": "code",
   "execution_count": 5,
   "metadata": {},
   "outputs": [
    {
     "data": {
      "text/html": [
       "<div>\n",
       "<style scoped>\n",
       "    .dataframe tbody tr th:only-of-type {\n",
       "        vertical-align: middle;\n",
       "    }\n",
       "\n",
       "    .dataframe tbody tr th {\n",
       "        vertical-align: top;\n",
       "    }\n",
       "\n",
       "    .dataframe thead th {\n",
       "        text-align: right;\n",
       "    }\n",
       "</style>\n",
       "<table border=\"1\" class=\"dataframe\">\n",
       "  <thead>\n",
       "    <tr style=\"text-align: right;\">\n",
       "      <th></th>\n",
       "      <th>index</th>\n",
       "      <th>from_npi</th>\n",
       "      <th>to_npi</th>\n",
       "      <th>patient_count</th>\n",
       "      <th>transaction_count</th>\n",
       "      <th>average_day_wait</th>\n",
       "      <th>std_day_wait</th>\n",
       "    </tr>\n",
       "  </thead>\n",
       "  <tbody>\n",
       "    <tr>\n",
       "      <th>0</th>\n",
       "      <td>20</td>\n",
       "      <td>1003863580</td>\n",
       "      <td>1003001066</td>\n",
       "      <td>109</td>\n",
       "      <td>134</td>\n",
       "      <td>9.612</td>\n",
       "      <td>35.369</td>\n",
       "    </tr>\n",
       "    <tr>\n",
       "      <th>1</th>\n",
       "      <td>335</td>\n",
       "      <td>1023055126</td>\n",
       "      <td>1003013947</td>\n",
       "      <td>69</td>\n",
       "      <td>142</td>\n",
       "      <td>5.535</td>\n",
       "      <td>27.885</td>\n",
       "    </tr>\n",
       "    <tr>\n",
       "      <th>2</th>\n",
       "      <td>632</td>\n",
       "      <td>1003863580</td>\n",
       "      <td>1003025826</td>\n",
       "      <td>106</td>\n",
       "      <td>107</td>\n",
       "      <td>11.869</td>\n",
       "      <td>41.021</td>\n",
       "    </tr>\n",
       "    <tr>\n",
       "      <th>3</th>\n",
       "      <td>705</td>\n",
       "      <td>1013154723</td>\n",
       "      <td>1003028770</td>\n",
       "      <td>32</td>\n",
       "      <td>50</td>\n",
       "      <td>41.940</td>\n",
       "      <td>52.320</td>\n",
       "    </tr>\n",
       "    <tr>\n",
       "      <th>4</th>\n",
       "      <td>706</td>\n",
       "      <td>1003963976</td>\n",
       "      <td>1003028770</td>\n",
       "      <td>2535</td>\n",
       "      <td>3945</td>\n",
       "      <td>0.000</td>\n",
       "      <td>0.000</td>\n",
       "    </tr>\n",
       "  </tbody>\n",
       "</table>\n",
       "</div>"
      ],
      "text/plain": [
       "   index    from_npi      to_npi  patient_count  transaction_count  \\\n",
       "0     20  1003863580  1003001066            109                134   \n",
       "1    335  1023055126  1003013947             69                142   \n",
       "2    632  1003863580  1003025826            106                107   \n",
       "3    705  1013154723  1003028770             32                 50   \n",
       "4    706  1003963976  1003028770           2535               3945   \n",
       "\n",
       "   average_day_wait  std_day_wait  \n",
       "0             9.612        35.369  \n",
       "1             5.535        27.885  \n",
       "2            11.869        41.021  \n",
       "3            41.940        52.320  \n",
       "4             0.000         0.000  "
      ]
     },
     "execution_count": 5,
     "metadata": {},
     "output_type": "execute_result"
    }
   ],
   "source": [
    "# Take a look at that dataframe\n",
    "nashville_providers.head()"
   ]
  },
  {
   "cell_type": "code",
   "execution_count": 6,
   "metadata": {},
   "outputs": [
    {
     "name": "stdout",
     "output_type": "stream",
     "text": [
      "<class 'pandas.core.frame.DataFrame'>\n",
      "RangeIndex: 290010 entries, 0 to 290009\n",
      "Data columns (total 7 columns):\n",
      " #   Column             Non-Null Count   Dtype  \n",
      "---  ------             --------------   -----  \n",
      " 0   index              290010 non-null  int64  \n",
      " 1   from_npi           290010 non-null  int64  \n",
      " 2   to_npi             290010 non-null  int64  \n",
      " 3   patient_count      290010 non-null  int64  \n",
      " 4   transaction_count  290010 non-null  int64  \n",
      " 5   average_day_wait   290010 non-null  float64\n",
      " 6   std_day_wait       290010 non-null  float64\n",
      "dtypes: float64(2), int64(5)\n",
      "memory usage: 15.5 MB\n"
     ]
    }
   ],
   "source": [
    "nashville_providers.info()"
   ]
  },
  {
   "cell_type": "code",
   "execution_count": 7,
   "metadata": {},
   "outputs": [],
   "source": [
    "# Read the dataframe back into a new table, drop the index\n",
    "nashville_providers.to_sql('nashville_referrals', db, if_exists = 'replace', index = False)"
   ]
  },
  {
   "cell_type": "code",
   "execution_count": 8,
   "metadata": {},
   "outputs": [
    {
     "name": "stdout",
     "output_type": "stream",
     "text": [
      "cbsa\n",
      "referrals\n",
      "nppes\n",
      "specialty\n",
      "hospital_names\n",
      "nashville_referrals\n"
     ]
    }
   ],
   "source": [
    "# Check the tables in the database to make sure it's created\n",
    "tables = db.execute(\"SELECT name FROM sqlite_master WHERE type='table';\")\n",
    "for table in tables:\n",
    "    print(table[0])"
   ]
  },
  {
   "cell_type": "code",
   "execution_count": 9,
   "metadata": {},
   "outputs": [],
   "source": [
    "# Write a test query against the new table\n",
    "query = \"\"\"\n",
    "SELECT COUNT(*)\n",
    "\n",
    "FROM nashville_referrals\n",
    "\"\"\""
   ]
  },
  {
   "cell_type": "code",
   "execution_count": 10,
   "metadata": {},
   "outputs": [],
   "source": [
    "# Assign the test query results to a dataframe\n",
    "test = pd.read_sql(query, db)"
   ]
  },
  {
   "cell_type": "code",
   "execution_count": 11,
   "metadata": {},
   "outputs": [
    {
     "data": {
      "text/html": [
       "<div>\n",
       "<style scoped>\n",
       "    .dataframe tbody tr th:only-of-type {\n",
       "        vertical-align: middle;\n",
       "    }\n",
       "\n",
       "    .dataframe tbody tr th {\n",
       "        vertical-align: top;\n",
       "    }\n",
       "\n",
       "    .dataframe thead th {\n",
       "        text-align: right;\n",
       "    }\n",
       "</style>\n",
       "<table border=\"1\" class=\"dataframe\">\n",
       "  <thead>\n",
       "    <tr style=\"text-align: right;\">\n",
       "      <th></th>\n",
       "      <th>COUNT(*)</th>\n",
       "    </tr>\n",
       "  </thead>\n",
       "  <tbody>\n",
       "    <tr>\n",
       "      <th>0</th>\n",
       "      <td>290010</td>\n",
       "    </tr>\n",
       "  </tbody>\n",
       "</table>\n",
       "</div>"
      ],
      "text/plain": [
       "   COUNT(*)\n",
       "0    290010"
      ]
     },
     "execution_count": 11,
     "metadata": {},
     "output_type": "execute_result"
    }
   ],
   "source": [
    "# Take a look at the top 5 rows of the df\n",
    "test.head()"
   ]
  },
  {
   "cell_type": "code",
   "execution_count": null,
   "metadata": {},
   "outputs": [],
   "source": []
  }
 ],
 "metadata": {
  "kernelspec": {
   "display_name": "Python 3",
   "language": "python",
   "name": "python3"
  },
  "language_info": {
   "codemirror_mode": {
    "name": "ipython",
    "version": 3
   },
   "file_extension": ".py",
   "mimetype": "text/x-python",
   "name": "python",
   "nbconvert_exporter": "python",
   "pygments_lexer": "ipython3",
   "version": "3.8.3"
  }
 },
 "nbformat": 4,
 "nbformat_minor": 4
}
