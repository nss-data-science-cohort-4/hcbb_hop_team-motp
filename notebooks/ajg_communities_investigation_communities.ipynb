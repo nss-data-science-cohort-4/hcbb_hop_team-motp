{
 "cells": [
  {
   "cell_type": "code",
   "execution_count": 1,
   "metadata": {},
   "outputs": [],
   "source": [
    "import pandas as pd\n",
    "import numpy as np\n",
    "import sqlite3\n",
    "import matplotlib.pyplot as plt\n",
    "import seaborn as sns\n",
    "import natsort as ns"
   ]
  },
  {
   "cell_type": "code",
   "execution_count": 2,
   "metadata": {},
   "outputs": [],
   "source": [
    "pd.options.display.max_rows = 1000\n",
    "pd.options.display.max_columns = 100"
   ]
  },
  {
   "cell_type": "code",
   "execution_count": 3,
   "metadata": {},
   "outputs": [],
   "source": [
    "db = sqlite3.connect('../data/hop_teaming.sqlite')"
   ]
  },
  {
   "cell_type": "code",
   "execution_count": 11,
   "metadata": {},
   "outputs": [
    {
     "name": "stdout",
     "output_type": "stream",
     "text": [
      "cbsa\n",
      "specialty\n",
      "referrals\n",
      "nashville_referrals\n",
      "nppes\n",
      "communities_pats\n",
      "communities\n",
      "nash_vegas\n"
     ]
    }
   ],
   "source": [
    "tables = db.execute(\"SELECT name FROM sqlite_master WHERE type='table';\")\n",
    "for table in tables:\n",
    "    print(table[0])"
   ]
  },
  {
   "cell_type": "code",
   "execution_count": 6,
   "metadata": {},
   "outputs": [
    {
     "name": "stdout",
     "output_type": "stream",
     "text": [
      "['npi', 'communityId']\n"
     ]
    }
   ],
   "source": [
    "col = db.execute(\"PRAGMA table_info(communities)\").fetchall()\n",
    "print([e[1] for e in col])"
   ]
  },
  {
   "cell_type": "code",
   "execution_count": 8,
   "metadata": {},
   "outputs": [],
   "source": [
    "#col = db.execute(\"PRAGMA table_info(specialty)\").fetchall()\n",
    "#print([e[1] for e in col])"
   ]
  },
  {
   "cell_type": "code",
   "execution_count": 7,
   "metadata": {},
   "outputs": [],
   "source": [
    "vandy_npi_nums = [1306889597, 1396882205, 1558408633]"
   ]
  },
  {
   "cell_type": "code",
   "execution_count": 13,
   "metadata": {},
   "outputs": [],
   "source": [
    "#Selects only the 3 Vanderbilt acute care centers\n",
    "\n",
    "query = '''\n",
    "SELECT *\n",
    "FROM nash_vegas\n",
    "'''\n",
    "\n",
    "qtemp = pd.read_sql(query, db)"
   ]
  },
  {
   "cell_type": "code",
   "execution_count": 15,
   "metadata": {},
   "outputs": [],
   "source": [
    "query1 = '''\n",
    "SELECT nv.to_npi, \n",
    "    cp.communityId, \n",
    "    nv.from_npi_specialty, \n",
    "    nppes.provider_organization_name, \n",
    "    nppes.provider_first_name, \n",
    "    nppes.provider_last_name  \n",
    "FROM nash_vegas AS nv\n",
    "LEFT JOIN communities_pats AS cp\n",
    "ON nv.from_npi = cp.npi\n",
    "LEFT JOIN nppes\n",
    "ON nv.from_npi = nppes.npi\n",
    "WHERE nv.to_npi = 1306889597 OR nv.to_npi = 1396882205 OR nv.to_npi = 1558408633;\n",
    "'''\n",
    "\n",
    "vandy_npi = pd.read_sql(query1, db)"
   ]
  },
  {
   "cell_type": "code",
   "execution_count": null,
   "metadata": {},
   "outputs": [],
   "source": []
  },
  {
   "cell_type": "code",
   "execution_count": null,
   "metadata": {},
   "outputs": [],
   "source": []
  },
  {
   "cell_type": "code",
   "execution_count": null,
   "metadata": {},
   "outputs": [],
   "source": []
  },
  {
   "cell_type": "code",
   "execution_count": null,
   "metadata": {},
   "outputs": [],
   "source": []
  },
  {
   "cell_type": "code",
   "execution_count": null,
   "metadata": {},
   "outputs": [],
   "source": []
  },
  {
   "cell_type": "code",
   "execution_count": null,
   "metadata": {},
   "outputs": [],
   "source": []
  },
  {
   "cell_type": "code",
   "execution_count": 21,
   "metadata": {},
   "outputs": [
    {
     "data": {
      "text/html": [
       "<div>\n",
       "<style scoped>\n",
       "    .dataframe tbody tr th:only-of-type {\n",
       "        vertical-align: middle;\n",
       "    }\n",
       "\n",
       "    .dataframe tbody tr th {\n",
       "        vertical-align: top;\n",
       "    }\n",
       "\n",
       "    .dataframe thead th {\n",
       "        text-align: right;\n",
       "    }\n",
       "</style>\n",
       "<table border=\"1\" class=\"dataframe\">\n",
       "  <thead>\n",
       "    <tr style=\"text-align: right;\">\n",
       "      <th></th>\n",
       "      <th>to_npi</th>\n",
       "      <th>communityId</th>\n",
       "      <th>from_npi_specialty</th>\n",
       "      <th>provider_organization_name</th>\n",
       "      <th>provider_first_name</th>\n",
       "      <th>provider_last_name</th>\n",
       "    </tr>\n",
       "  </thead>\n",
       "  <tbody>\n",
       "    <tr>\n",
       "      <th>683</th>\n",
       "      <td>1396882205</td>\n",
       "      <td>7</td>\n",
       "      <td>Urology</td>\n",
       "      <td>None</td>\n",
       "      <td>DOUGLAS</td>\n",
       "      <td>ALTENBERN</td>\n",
       "    </tr>\n",
       "    <tr>\n",
       "      <th>2151</th>\n",
       "      <td>1396882205</td>\n",
       "      <td>7</td>\n",
       "      <td>Urology</td>\n",
       "      <td>None</td>\n",
       "      <td>WHITSON</td>\n",
       "      <td>LOWE</td>\n",
       "    </tr>\n",
       "    <tr>\n",
       "      <th>916</th>\n",
       "      <td>1396882205</td>\n",
       "      <td>7</td>\n",
       "      <td>Family Medicine</td>\n",
       "      <td>None</td>\n",
       "      <td>HAL</td>\n",
       "      <td>JENKINS</td>\n",
       "    </tr>\n",
       "    <tr>\n",
       "      <th>910</th>\n",
       "      <td>1396882205</td>\n",
       "      <td>7</td>\n",
       "      <td>Nurse Practitioner</td>\n",
       "      <td>None</td>\n",
       "      <td>JACOB</td>\n",
       "      <td>PAGE</td>\n",
       "    </tr>\n",
       "    <tr>\n",
       "      <th>905</th>\n",
       "      <td>1396882205</td>\n",
       "      <td>7</td>\n",
       "      <td>Urology</td>\n",
       "      <td>None</td>\n",
       "      <td>GREGORY</td>\n",
       "      <td>STEWART</td>\n",
       "    </tr>\n",
       "    <tr>\n",
       "      <th>...</th>\n",
       "      <td>...</td>\n",
       "      <td>...</td>\n",
       "      <td>...</td>\n",
       "      <td>...</td>\n",
       "      <td>...</td>\n",
       "      <td>...</td>\n",
       "    </tr>\n",
       "    <tr>\n",
       "      <th>466</th>\n",
       "      <td>1396882205</td>\n",
       "      <td>6808</td>\n",
       "      <td>Ophthalmology</td>\n",
       "      <td>None</td>\n",
       "      <td>JOSHUA</td>\n",
       "      <td>YOUNG</td>\n",
       "    </tr>\n",
       "    <tr>\n",
       "      <th>196</th>\n",
       "      <td>1396882205</td>\n",
       "      <td>6808</td>\n",
       "      <td>Ophthalmology</td>\n",
       "      <td>None</td>\n",
       "      <td>PETER</td>\n",
       "      <td>SONKIN</td>\n",
       "    </tr>\n",
       "    <tr>\n",
       "      <th>2089</th>\n",
       "      <td>1396882205</td>\n",
       "      <td>6808</td>\n",
       "      <td>Physical Medicine &amp; Rehabilitation</td>\n",
       "      <td>None</td>\n",
       "      <td>SON</td>\n",
       "      <td>LE</td>\n",
       "    </tr>\n",
       "    <tr>\n",
       "      <th>442</th>\n",
       "      <td>1396882205</td>\n",
       "      <td>6808</td>\n",
       "      <td>Ophthalmology</td>\n",
       "      <td>None</td>\n",
       "      <td>CARL</td>\n",
       "      <td>AWH</td>\n",
       "    </tr>\n",
       "    <tr>\n",
       "      <th>144</th>\n",
       "      <td>1306889597</td>\n",
       "      <td>6808</td>\n",
       "      <td>Physical Medicine &amp; Rehabilitation</td>\n",
       "      <td>None</td>\n",
       "      <td>SON</td>\n",
       "      <td>LE</td>\n",
       "    </tr>\n",
       "  </tbody>\n",
       "</table>\n",
       "<p>2190 rows × 6 columns</p>\n",
       "</div>"
      ],
      "text/plain": [
       "          to_npi  communityId                  from_npi_specialty  \\\n",
       "683   1396882205            7                             Urology   \n",
       "2151  1396882205            7                             Urology   \n",
       "916   1396882205            7                     Family Medicine   \n",
       "910   1396882205            7                  Nurse Practitioner   \n",
       "905   1396882205            7                             Urology   \n",
       "...          ...          ...                                 ...   \n",
       "466   1396882205         6808                       Ophthalmology   \n",
       "196   1396882205         6808                       Ophthalmology   \n",
       "2089  1396882205         6808  Physical Medicine & Rehabilitation   \n",
       "442   1396882205         6808                       Ophthalmology   \n",
       "144   1306889597         6808  Physical Medicine & Rehabilitation   \n",
       "\n",
       "     provider_organization_name provider_first_name provider_last_name  \n",
       "683                        None             DOUGLAS          ALTENBERN  \n",
       "2151                       None             WHITSON               LOWE  \n",
       "916                        None                 HAL            JENKINS  \n",
       "910                        None               JACOB               PAGE  \n",
       "905                        None             GREGORY            STEWART  \n",
       "...                         ...                 ...                ...  \n",
       "466                        None              JOSHUA              YOUNG  \n",
       "196                        None               PETER             SONKIN  \n",
       "2089                       None                 SON                 LE  \n",
       "442                        None                CARL                AWH  \n",
       "144                        None                 SON                 LE  \n",
       "\n",
       "[2190 rows x 6 columns]"
      ]
     },
     "execution_count": 21,
     "metadata": {},
     "output_type": "execute_result"
    }
   ],
   "source": [
    "vandy_npi.sort_values('communityId')"
   ]
  },
  {
   "cell_type": "code",
   "execution_count": 16,
   "metadata": {},
   "outputs": [
    {
     "data": {
      "text/html": [
       "<div>\n",
       "<style scoped>\n",
       "    .dataframe tbody tr th:only-of-type {\n",
       "        vertical-align: middle;\n",
       "    }\n",
       "\n",
       "    .dataframe tbody tr th {\n",
       "        vertical-align: top;\n",
       "    }\n",
       "\n",
       "    .dataframe thead th {\n",
       "        text-align: right;\n",
       "    }\n",
       "</style>\n",
       "<table border=\"1\" class=\"dataframe\">\n",
       "  <thead>\n",
       "    <tr style=\"text-align: right;\">\n",
       "      <th></th>\n",
       "      <th>to_npi</th>\n",
       "      <th>communityId</th>\n",
       "      <th>from_npi_specialty</th>\n",
       "      <th>provider_organization_name</th>\n",
       "      <th>provider_first_name</th>\n",
       "      <th>provider_last_name</th>\n",
       "    </tr>\n",
       "  </thead>\n",
       "  <tbody>\n",
       "    <tr>\n",
       "      <th>0</th>\n",
       "      <td>1306889597</td>\n",
       "      <td>1176</td>\n",
       "      <td>Nurse Practitioner</td>\n",
       "      <td>None</td>\n",
       "      <td>HEATHER</td>\n",
       "      <td>LAMBERT</td>\n",
       "    </tr>\n",
       "    <tr>\n",
       "      <th>1</th>\n",
       "      <td>1306889597</td>\n",
       "      <td>6752</td>\n",
       "      <td>General Practice</td>\n",
       "      <td>None</td>\n",
       "      <td>THOMAS</td>\n",
       "      <td>KOWAL</td>\n",
       "    </tr>\n",
       "    <tr>\n",
       "      <th>2</th>\n",
       "      <td>1306889597</td>\n",
       "      <td>6752</td>\n",
       "      <td>Radiology</td>\n",
       "      <td>None</td>\n",
       "      <td>JONATHAN</td>\n",
       "      <td>GORDON</td>\n",
       "    </tr>\n",
       "    <tr>\n",
       "      <th>3</th>\n",
       "      <td>1306889597</td>\n",
       "      <td>6752</td>\n",
       "      <td>Internal Medicine</td>\n",
       "      <td>None</td>\n",
       "      <td>ALPESH</td>\n",
       "      <td>PATEL</td>\n",
       "    </tr>\n",
       "    <tr>\n",
       "      <th>4</th>\n",
       "      <td>1306889597</td>\n",
       "      <td>6752</td>\n",
       "      <td>Psychiatry &amp; Neurology</td>\n",
       "      <td>None</td>\n",
       "      <td>WIAAM</td>\n",
       "      <td>FALOUJI</td>\n",
       "    </tr>\n",
       "    <tr>\n",
       "      <th>...</th>\n",
       "      <td>...</td>\n",
       "      <td>...</td>\n",
       "      <td>...</td>\n",
       "      <td>...</td>\n",
       "      <td>...</td>\n",
       "      <td>...</td>\n",
       "    </tr>\n",
       "    <tr>\n",
       "      <th>2185</th>\n",
       "      <td>1396882205</td>\n",
       "      <td>1410</td>\n",
       "      <td>Nurse Practitioner</td>\n",
       "      <td>None</td>\n",
       "      <td>SHELTON</td>\n",
       "      <td>HARRELL</td>\n",
       "    </tr>\n",
       "    <tr>\n",
       "      <th>2186</th>\n",
       "      <td>1396882205</td>\n",
       "      <td>1410</td>\n",
       "      <td>Internal Medicine</td>\n",
       "      <td>None</td>\n",
       "      <td>MICHAEL</td>\n",
       "      <td>NOTO</td>\n",
       "    </tr>\n",
       "    <tr>\n",
       "      <th>2187</th>\n",
       "      <td>1396882205</td>\n",
       "      <td>1410</td>\n",
       "      <td>Surgery</td>\n",
       "      <td>None</td>\n",
       "      <td>JILL</td>\n",
       "      <td>STREAMS</td>\n",
       "    </tr>\n",
       "    <tr>\n",
       "      <th>2188</th>\n",
       "      <td>1396882205</td>\n",
       "      <td>1410</td>\n",
       "      <td>Physical Medicine &amp; Rehabilitation</td>\n",
       "      <td>None</td>\n",
       "      <td>MARNI</td>\n",
       "      <td>HILLINGER</td>\n",
       "    </tr>\n",
       "    <tr>\n",
       "      <th>2189</th>\n",
       "      <td>1396882205</td>\n",
       "      <td>1410</td>\n",
       "      <td>Psychiatry &amp; Neurology</td>\n",
       "      <td>None</td>\n",
       "      <td>HUONG</td>\n",
       "      <td>PHAM</td>\n",
       "    </tr>\n",
       "  </tbody>\n",
       "</table>\n",
       "<p>2190 rows × 6 columns</p>\n",
       "</div>"
      ],
      "text/plain": [
       "          to_npi  communityId                  from_npi_specialty  \\\n",
       "0     1306889597         1176                  Nurse Practitioner   \n",
       "1     1306889597         6752                    General Practice   \n",
       "2     1306889597         6752                           Radiology   \n",
       "3     1306889597         6752                   Internal Medicine   \n",
       "4     1306889597         6752              Psychiatry & Neurology   \n",
       "...          ...          ...                                 ...   \n",
       "2185  1396882205         1410                  Nurse Practitioner   \n",
       "2186  1396882205         1410                   Internal Medicine   \n",
       "2187  1396882205         1410                             Surgery   \n",
       "2188  1396882205         1410  Physical Medicine & Rehabilitation   \n",
       "2189  1396882205         1410              Psychiatry & Neurology   \n",
       "\n",
       "     provider_organization_name provider_first_name provider_last_name  \n",
       "0                          None             HEATHER            LAMBERT  \n",
       "1                          None              THOMAS              KOWAL  \n",
       "2                          None            JONATHAN             GORDON  \n",
       "3                          None              ALPESH              PATEL  \n",
       "4                          None               WIAAM            FALOUJI  \n",
       "...                         ...                 ...                ...  \n",
       "2185                       None             SHELTON            HARRELL  \n",
       "2186                       None             MICHAEL               NOTO  \n",
       "2187                       None                JILL            STREAMS  \n",
       "2188                       None               MARNI          HILLINGER  \n",
       "2189                       None               HUONG               PHAM  \n",
       "\n",
       "[2190 rows x 6 columns]"
      ]
     },
     "execution_count": 16,
     "metadata": {},
     "output_type": "execute_result"
    }
   ],
   "source": [
    "vandy_npi"
   ]
  },
  {
   "cell_type": "code",
   "execution_count": 32,
   "metadata": {},
   "outputs": [],
   "source": [
    "#Full communities dataset\n",
    "\n",
    "query2 = '''\n",
    "SELECT cp.npi, \n",
    "        cp.communityId, \n",
    "        s.classification, \n",
    "        n.entity_type_code, \n",
    "        n.provider_organization_name,\n",
    "        n.provider_last_name,\n",
    "        n.provider_first_name\n",
    "FROM communities AS cp\n",
    "LEFT JOIN specialty AS s\n",
    "ON cp.npi = s.npi\n",
    "LEFT JOIN nppes AS n\n",
    "ON cp.npi = n.npi\n",
    "'''\n",
    "\n",
    "communities_full = pd.read_sql(query2, db)"
   ]
  },
  {
   "cell_type": "code",
   "execution_count": 33,
   "metadata": {},
   "outputs": [
    {
     "data": {
      "text/plain": [
       "npi                           4250\n",
       "communityId                     10\n",
       "Classification                  49\n",
       "entity_type_code                 2\n",
       "provider_organization_name      16\n",
       "provider_last_name            2987\n",
       "provider_first_name           1401\n",
       "dtype: int64"
      ]
     },
     "execution_count": 33,
     "metadata": {},
     "output_type": "execute_result"
    }
   ],
   "source": [
    "#communities_full\n",
    "\n",
    "#Answers the question whether or not an npi could be duplicated and included in multiple communities\n",
    "\n",
    "communities_full.nunique()"
   ]
  },
  {
   "cell_type": "code",
   "execution_count": 34,
   "metadata": {},
   "outputs": [],
   "source": [
    "communities_count = communities_full.groupby('communityId')['npi'].count()"
   ]
  },
  {
   "cell_type": "code",
   "execution_count": 35,
   "metadata": {},
   "outputs": [],
   "source": [
    "communities_count = communities_count.reset_index()"
   ]
  },
  {
   "cell_type": "code",
   "execution_count": 36,
   "metadata": {},
   "outputs": [],
   "source": [
    "communities_count = communities_count.rename(columns = {'npi' : 'count'})"
   ]
  },
  {
   "cell_type": "code",
   "execution_count": 37,
   "metadata": {},
   "outputs": [],
   "source": [
    "communities_count['communityId'] = communities_count['communityId'].astype(str)"
   ]
  },
  {
   "cell_type": "code",
   "execution_count": 38,
   "metadata": {},
   "outputs": [
    {
     "data": {
      "text/html": [
       "<div>\n",
       "<style scoped>\n",
       "    .dataframe tbody tr th:only-of-type {\n",
       "        vertical-align: middle;\n",
       "    }\n",
       "\n",
       "    .dataframe tbody tr th {\n",
       "        vertical-align: top;\n",
       "    }\n",
       "\n",
       "    .dataframe thead th {\n",
       "        text-align: right;\n",
       "    }\n",
       "</style>\n",
       "<table border=\"1\" class=\"dataframe\">\n",
       "  <thead>\n",
       "    <tr style=\"text-align: right;\">\n",
       "      <th></th>\n",
       "      <th>communityId</th>\n",
       "      <th>count</th>\n",
       "    </tr>\n",
       "  </thead>\n",
       "  <tbody>\n",
       "    <tr>\n",
       "      <th>7</th>\n",
       "      <td>4244</td>\n",
       "      <td>1387</td>\n",
       "    </tr>\n",
       "    <tr>\n",
       "      <th>3</th>\n",
       "      <td>4234</td>\n",
       "      <td>898</td>\n",
       "    </tr>\n",
       "    <tr>\n",
       "      <th>6</th>\n",
       "      <td>4239</td>\n",
       "      <td>604</td>\n",
       "    </tr>\n",
       "    <tr>\n",
       "      <th>8</th>\n",
       "      <td>4245</td>\n",
       "      <td>378</td>\n",
       "    </tr>\n",
       "    <tr>\n",
       "      <th>1</th>\n",
       "      <td>2802</td>\n",
       "      <td>284</td>\n",
       "    </tr>\n",
       "    <tr>\n",
       "      <th>2</th>\n",
       "      <td>4226</td>\n",
       "      <td>247</td>\n",
       "    </tr>\n",
       "    <tr>\n",
       "      <th>5</th>\n",
       "      <td>4238</td>\n",
       "      <td>184</td>\n",
       "    </tr>\n",
       "    <tr>\n",
       "      <th>9</th>\n",
       "      <td>4247</td>\n",
       "      <td>125</td>\n",
       "    </tr>\n",
       "    <tr>\n",
       "      <th>4</th>\n",
       "      <td>4236</td>\n",
       "      <td>103</td>\n",
       "    </tr>\n",
       "    <tr>\n",
       "      <th>0</th>\n",
       "      <td>2542</td>\n",
       "      <td>40</td>\n",
       "    </tr>\n",
       "  </tbody>\n",
       "</table>\n",
       "</div>"
      ],
      "text/plain": [
       "  communityId  count\n",
       "7        4244   1387\n",
       "3        4234    898\n",
       "6        4239    604\n",
       "8        4245    378\n",
       "1        2802    284\n",
       "2        4226    247\n",
       "5        4238    184\n",
       "9        4247    125\n",
       "4        4236    103\n",
       "0        2542     40"
      ]
     },
     "execution_count": 38,
     "metadata": {},
     "output_type": "execute_result"
    }
   ],
   "source": [
    "communities_count = communities_count.sort_values('count', ascending = False)\n",
    "communities_count.head(10)"
   ]
  },
  {
   "cell_type": "code",
   "execution_count": 41,
   "metadata": {},
   "outputs": [
    {
     "name": "stdout",
     "output_type": "stream",
     "text": [
      "<class 'pandas.core.frame.DataFrame'>\n",
      "Int64Index: 10 entries, 7 to 0\n",
      "Data columns (total 2 columns):\n",
      " #   Column       Non-Null Count  Dtype \n",
      "---  ------       --------------  ----- \n",
      " 0   communityId  10 non-null     object\n",
      " 1   count        10 non-null     int64 \n",
      "dtypes: int64(1), object(1)\n",
      "memory usage: 240.0+ bytes\n"
     ]
    }
   ],
   "source": [
    "communities_count.info()"
   ]
  },
  {
   "cell_type": "code",
   "execution_count": 46,
   "metadata": {},
   "outputs": [
    {
     "data": {
      "text/html": [
       "<div>\n",
       "<style scoped>\n",
       "    .dataframe tbody tr th:only-of-type {\n",
       "        vertical-align: middle;\n",
       "    }\n",
       "\n",
       "    .dataframe tbody tr th {\n",
       "        vertical-align: top;\n",
       "    }\n",
       "\n",
       "    .dataframe thead th {\n",
       "        text-align: right;\n",
       "    }\n",
       "</style>\n",
       "<table border=\"1\" class=\"dataframe\">\n",
       "  <thead>\n",
       "    <tr style=\"text-align: right;\">\n",
       "      <th></th>\n",
       "      <th>npi</th>\n",
       "      <th>communityId</th>\n",
       "      <th>Classification</th>\n",
       "      <th>entity_type_code</th>\n",
       "      <th>provider_organization_name</th>\n",
       "      <th>provider_last_name</th>\n",
       "      <th>provider_first_name</th>\n",
       "    </tr>\n",
       "  </thead>\n",
       "  <tbody>\n",
       "    <tr>\n",
       "      <th>1335</th>\n",
       "      <td>1306889597</td>\n",
       "      <td>4247</td>\n",
       "      <td>General Acute Care Hospital</td>\n",
       "      <td>2.0</td>\n",
       "      <td>VANDERBILT UNIVERSITY MEDICAL CENTER</td>\n",
       "      <td>None</td>\n",
       "      <td>None</td>\n",
       "    </tr>\n",
       "  </tbody>\n",
       "</table>\n",
       "</div>"
      ],
      "text/plain": [
       "             npi  communityId               Classification  entity_type_code  \\\n",
       "1335  1306889597         4247  General Acute Care Hospital               2.0   \n",
       "\n",
       "                provider_organization_name provider_last_name  \\\n",
       "1335  VANDERBILT UNIVERSITY MEDICAL CENTER               None   \n",
       "\n",
       "     provider_first_name  \n",
       "1335                None  "
      ]
     },
     "execution_count": 46,
     "metadata": {},
     "output_type": "execute_result"
    }
   ],
   "source": [
    "communities_full[communities_full['npi'] == vandy_npi_nums[0]]"
   ]
  },
  {
   "cell_type": "code",
   "execution_count": 47,
   "metadata": {},
   "outputs": [
    {
     "data": {
      "text/html": [
       "<div>\n",
       "<style scoped>\n",
       "    .dataframe tbody tr th:only-of-type {\n",
       "        vertical-align: middle;\n",
       "    }\n",
       "\n",
       "    .dataframe tbody tr th {\n",
       "        vertical-align: top;\n",
       "    }\n",
       "\n",
       "    .dataframe thead th {\n",
       "        text-align: right;\n",
       "    }\n",
       "</style>\n",
       "<table border=\"1\" class=\"dataframe\">\n",
       "  <thead>\n",
       "    <tr style=\"text-align: right;\">\n",
       "      <th></th>\n",
       "      <th>npi</th>\n",
       "      <th>communityId</th>\n",
       "      <th>Classification</th>\n",
       "      <th>entity_type_code</th>\n",
       "      <th>provider_organization_name</th>\n",
       "      <th>provider_last_name</th>\n",
       "      <th>provider_first_name</th>\n",
       "    </tr>\n",
       "  </thead>\n",
       "  <tbody>\n",
       "    <tr>\n",
       "      <th>1730</th>\n",
       "      <td>1396882205</td>\n",
       "      <td>4244</td>\n",
       "      <td>General Acute Care Hospital</td>\n",
       "      <td>2.0</td>\n",
       "      <td>VANDERBILT UNIVERSITY MEDICAL CENTER</td>\n",
       "      <td>None</td>\n",
       "      <td>None</td>\n",
       "    </tr>\n",
       "  </tbody>\n",
       "</table>\n",
       "</div>"
      ],
      "text/plain": [
       "             npi  communityId               Classification  entity_type_code  \\\n",
       "1730  1396882205         4244  General Acute Care Hospital               2.0   \n",
       "\n",
       "                provider_organization_name provider_last_name  \\\n",
       "1730  VANDERBILT UNIVERSITY MEDICAL CENTER               None   \n",
       "\n",
       "     provider_first_name  \n",
       "1730                None  "
      ]
     },
     "execution_count": 47,
     "metadata": {},
     "output_type": "execute_result"
    }
   ],
   "source": [
    "communities_full[communities_full['npi'] == vandy_npi_nums[1]]"
   ]
  },
  {
   "cell_type": "code",
   "execution_count": 48,
   "metadata": {},
   "outputs": [
    {
     "data": {
      "text/html": [
       "<div>\n",
       "<style scoped>\n",
       "    .dataframe tbody tr th:only-of-type {\n",
       "        vertical-align: middle;\n",
       "    }\n",
       "\n",
       "    .dataframe tbody tr th {\n",
       "        vertical-align: top;\n",
       "    }\n",
       "\n",
       "    .dataframe thead th {\n",
       "        text-align: right;\n",
       "    }\n",
       "</style>\n",
       "<table border=\"1\" class=\"dataframe\">\n",
       "  <thead>\n",
       "    <tr style=\"text-align: right;\">\n",
       "      <th></th>\n",
       "      <th>npi</th>\n",
       "      <th>communityId</th>\n",
       "      <th>Classification</th>\n",
       "      <th>entity_type_code</th>\n",
       "      <th>provider_organization_name</th>\n",
       "      <th>provider_last_name</th>\n",
       "      <th>provider_first_name</th>\n",
       "    </tr>\n",
       "  </thead>\n",
       "  <tbody>\n",
       "    <tr>\n",
       "      <th>2392</th>\n",
       "      <td>1558408633</td>\n",
       "      <td>4244</td>\n",
       "      <td>General Acute Care Hospital</td>\n",
       "      <td>2.0</td>\n",
       "      <td>VANDERBILT UNIVERSITY MEDICAL CENTER</td>\n",
       "      <td>None</td>\n",
       "      <td>None</td>\n",
       "    </tr>\n",
       "  </tbody>\n",
       "</table>\n",
       "</div>"
      ],
      "text/plain": [
       "             npi  communityId               Classification  entity_type_code  \\\n",
       "2392  1558408633         4244  General Acute Care Hospital               2.0   \n",
       "\n",
       "                provider_organization_name provider_last_name  \\\n",
       "2392  VANDERBILT UNIVERSITY MEDICAL CENTER               None   \n",
       "\n",
       "     provider_first_name  \n",
       "2392                None  "
      ]
     },
     "execution_count": 48,
     "metadata": {},
     "output_type": "execute_result"
    }
   ],
   "source": [
    "communities_full[communities_full['npi'] == vandy_npi_nums[2]]"
   ]
  },
  {
   "cell_type": "code",
   "execution_count": 50,
   "metadata": {},
   "outputs": [
    {
     "data": {
      "image/png": "[encoded data removed]",
      "text/plain": [
       "<Figure size 1440x720 with 1 Axes>"
      ]
     },
     "metadata": {},
     "output_type": "display_data"
    }
   ],
   "source": [
    "sns.set_style('whitegrid')\n",
    "\n",
    "fig, (ax0) = plt.subplots(1, figsize = (20, 10))\n",
    "\n",
    "g0 = sns.barplot(y = 'communityId', x = 'count', ax = ax0,\n",
    "                 data = communities_count[communities_count['count'] > 1].sort_values('count', ascending = False)\n",
    "                 )\n",
    "\n",
    "#plt.ylim(0,2000)\n",
    "#plt.xticks(rotation = 45)"
   ]
  },
  {
   "cell_type": "code",
   "execution_count": 51,
   "metadata": {},
   "outputs": [],
   "source": [
    "communities_4244 = communities_full[communities_full['communityId'] == 4244]\n",
    "communities_4247 = communities_full[communities_full['communityId'] == 4247]\n",
    "communities_nVandy = communities_full[communities_full['communityId'] != {4244, 4247}]"
   ]
  },
  {
   "cell_type": "code",
   "execution_count": 52,
   "metadata": {},
   "outputs": [],
   "source": [
    "communities_4244_count = communities_4244.groupby('Classification')['npi'].count()\n",
    "communities_4247_count = communities_4247.groupby('Classification')['npi'].count()\n",
    "communities_nVandy_count = communities_nVandy.groupby('Classification')['npi'].count()"
   ]
  },
  {
   "cell_type": "code",
   "execution_count": 53,
   "metadata": {},
   "outputs": [],
   "source": [
    "#communities_1410_count = communities_1410_count.reset_index()"
   ]
  },
  {
   "cell_type": "code",
   "execution_count": 55,
   "metadata": {},
   "outputs": [
    {
     "data": {
      "text/plain": [
       "Classification\n",
       "Internal Medicine                                     324\n",
       "Nurse Practitioner                                    260\n",
       "Anesthesiology                                         96\n",
       "Nurse Anesthetist, Certified Registered                87\n",
       "Radiology                                              83\n",
       "Psychiatry & Neurology                                 78\n",
       "Emergency Medicine                                     57\n",
       "Surgery                                                42\n",
       "Pathology                                              40\n",
       "Ophthalmology                                          34\n",
       "Otolaryngology                                         28\n",
       "Dermatology                                            28\n",
       "Family Medicine                                        27\n",
       "Hospitalist                                            25\n",
       "Orthopaedic Surgery                                    20\n",
       "Physician Assistant                                    17\n",
       "Obstetrics & Gynecology                                15\n",
       "Urology                                                14\n",
       "Neurological Surgery                                   11\n",
       "Thoracic Surgery (Cardiothoracic Vascular Surgery)     10\n",
       "Physical Medicine & Rehabilitation                      9\n",
       "Physical Therapist                                      8\n",
       "Podiatrist                                              8\n",
       "Chiropractor                                            7\n",
       "Plastic Surgery                                         6\n",
       "Psychologist                                            6\n",
       "Transplant Surgery                                      5\n",
       "Nuclear Medicine                                        5\n",
       "Colon & Rectal Surgery                                  4\n",
       "Optometrist                                             4\n",
       "Allergy & Immunology                                    4\n",
       "Oral & Maxillofacial Surgery                            3\n",
       "Pain Medicine                                           3\n",
       "Pediatrics                                              3\n",
       "Clinical Neuropsychologist                              3\n",
       "General Acute Care Hospital                             2\n",
       "Clinical Pharmacology                                   2\n",
       "Clinical Nurse Specialist                               2\n",
       "Social Worker                                           2\n",
       "Specialist                                              2\n",
       "General Practice                                        1\n",
       "Preventive Medicine                                     1\n",
       "Audiologist                                             1\n",
       "Name: npi, dtype: int64"
      ]
     },
     "execution_count": 55,
     "metadata": {},
     "output_type": "execute_result"
    }
   ],
   "source": [
    "communities_4244_count.sort_values(ascending = False)"
   ]
  },
  {
   "cell_type": "code",
   "execution_count": 56,
   "metadata": {},
   "outputs": [
    {
     "data": {
      "text/plain": [
       "Classification\n",
       "Nurse Practitioner                         20\n",
       "Family Medicine                            16\n",
       "Internal Medicine                          16\n",
       "Nurse Anesthetist, Certified Registered    15\n",
       "Physician Assistant                         7\n",
       "Orthopaedic Surgery                         7\n",
       "Psychiatry & Neurology                      6\n",
       "Anesthesiology                              4\n",
       "Emergency Medicine                          4\n",
       "Specialist                                  3\n",
       "Physical Medicine & Rehabilitation          3\n",
       "General Acute Care Hospital                 3\n",
       "Surgery                                     3\n",
       "Obstetrics & Gynecology                     2\n",
       "General Practice                            2\n",
       "Pediatrics                                  2\n",
       "Podiatrist                                  2\n",
       "Radiology                                   2\n",
       "Chiropractor                                1\n",
       "Clinical Nurse Specialist                   1\n",
       "Name: npi, dtype: int64"
      ]
     },
     "execution_count": 56,
     "metadata": {},
     "output_type": "execute_result"
    }
   ],
   "source": [
    "communities_4247_count.sort_values(ascending = False).head(20)"
   ]
  },
  {
   "cell_type": "code",
   "execution_count": 183,
   "metadata": {},
   "outputs": [
    {
     "data": {
      "text/plain": [
       "Classification\n",
       "Internal Medicine                                                   1257\n",
       "Nurse Practitioner                                                  1137\n",
       "Nurse Anesthetist, Certified Registered                              510\n",
       "Family Medicine                                                      388\n",
       "Radiology                                                            297\n",
       "Anesthesiology                                                       272\n",
       "Physician Assistant                                                  262\n",
       "Emergency Medicine                                                   236\n",
       "Psychiatry & Neurology                                               236\n",
       "Chiropractor                                                         193\n",
       "Physical Therapist                                                   193\n",
       "Optometrist                                                          181\n",
       "Clinic/Center                                                        177\n",
       "Surgery                                                              177\n",
       "Orthopaedic Surgery                                                  176\n",
       "Specialist                                                           167\n",
       "Pharmacy                                                             161\n",
       "Pathology                                                            138\n",
       "Obstetrics & Gynecology                                              119\n",
       "Ophthalmology                                                        118\n",
       "Dermatology                                                           80\n",
       "Hospitalist                                                           74\n",
       "Podiatrist                                                            74\n",
       "Urology                                                               64\n",
       "Skilled Nursing Facility                                              64\n",
       "Otolaryngology                                                        60\n",
       "Durable Medical Equipment & Medical Supplies                          57\n",
       "Physical Medicine & Rehabilitation                                    52\n",
       "Social Worker                                                         44\n",
       "Neurological Surgery                                                  42\n",
       "Psychologist                                                          37\n",
       "Home Health                                                           33\n",
       "Audiologist                                                           31\n",
       "Allergy & Immunology                                                  29\n",
       "General Acute Care Hospital                                           29\n",
       "Pain Medicine                                                         28\n",
       "Plastic Surgery                                                       25\n",
       "General Practice                                                      25\n",
       "Thoracic Surgery (Cardiothoracic Vascular Surgery)                    22\n",
       "Clinical Medical Laboratory                                           22\n",
       "Ambulance                                                             20\n",
       "Occupational Therapist                                                18\n",
       "Hospice Care, Community Based                                         17\n",
       "Pediatrics                                                            16\n",
       "Clinical Nurse Specialist                                             12\n",
       "Prosthetic/Orthotic Supplier                                          10\n",
       "Clinical Neuropsychologist                                            10\n",
       "Colon & Rectal Surgery                                                 9\n",
       "Audiologist-Hearing Aid Fitter                                         8\n",
       "Nursing Facility/Intermediate Care Facility                            8\n",
       "Rehabilitation Unit                                                    7\n",
       "Transplant Surgery                                                     7\n",
       "Psychiatric Unit                                                       7\n",
       "Nuclear Medicine                                                       5\n",
       "Legal Medicine                                                         5\n",
       "Oral & Maxillofacial Surgery                                           5\n",
       "Psychiatric Hospital                                                   5\n",
       "Dietitian, Registered                                                  4\n",
       "Registered Nurse                                                       4\n",
       "Counselor                                                              4\n",
       "Preventive Medicine                                                    4\n",
       "Student in an Organized Health Care Education/Training Program         3\n",
       "Eyewear Supplier                                                       3\n",
       "Rehabilitation Hospital                                                3\n",
       "Physiological Laboratory                                               3\n",
       "Clinical Pharmacology                                                  2\n",
       "Advanced Practice Midwife                                              2\n",
       "Dentist                                                                2\n",
       "Long Term Care Hospital                                                2\n",
       "Preferred Provider Organization                                        2\n",
       "Portable X-ray and/or Other Portable Diagnostic Imaging Supplier       2\n",
       "Licensed Practical Nurse                                               1\n",
       "Special Hospital                                                       1\n",
       "Medicare Defined Swing Bed Unit                                        1\n",
       "Neuromusculoskeletal Medicine, Sports Medicine                         1\n",
       "Public Health or Welfare                                               1\n",
       "Personal Emergency Response Attendant                                  1\n",
       "Anesthesiologist Assistant                                             1\n",
       "Independent Medical Examiner                                           1\n",
       "Name: npi, dtype: int64"
      ]
     },
     "execution_count": 183,
     "metadata": {},
     "output_type": "execute_result"
    }
   ],
   "source": [
    "communities_nVandy_count.sort_values(ascending = False)"
   ]
  },
  {
   "cell_type": "markdown",
   "metadata": {},
   "source": [
    "Outer merge, how = outter\n",
    "\n",
    "classification (ie nurse practitioner)\n",
    "vandy count\n",
    "nVandy count\n",
    "total count\n",
    "perc\n",
    "\n",
    "one step further\n",
    "look at the ones they don't have a monopoly or major market share in"
   ]
  },
  {
   "cell_type": "code",
   "execution_count": null,
   "metadata": {},
   "outputs": [],
   "source": []
  },
  {
   "cell_type": "code",
   "execution_count": null,
   "metadata": {},
   "outputs": [],
   "source": []
  },
  {
   "cell_type": "code",
   "execution_count": null,
   "metadata": {},
   "outputs": [],
   "source": []
  },
  {
   "cell_type": "code",
   "execution_count": null,
   "metadata": {},
   "outputs": [],
   "source": []
  }
 ],
 "metadata": {
  "kernelspec": {
   "display_name": "Python 3",
   "language": "python",
   "name": "python3"
  },
  "language_info": {
   "codemirror_mode": {
    "name": "ipython",
    "version": 3
   },
   "file_extension": ".py",
   "mimetype": "text/x-python",
   "name": "python",
   "nbconvert_exporter": "python",
   "pygments_lexer": "ipython3",
   "version": "3.8.5"
  }
 },
 "nbformat": 4,
 "nbformat_minor": 4
}
