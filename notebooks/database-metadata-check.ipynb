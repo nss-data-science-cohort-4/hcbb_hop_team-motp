{
 "cells": [
  {
   "cell_type": "markdown",
   "metadata": {},
   "source": [
    "# Database Check\n",
    "\n",
    "*Some code to grab database metadata including table names and columns.*"
   ]
  },
  {
   "cell_type": "code",
   "execution_count": 1,
   "metadata": {},
   "outputs": [],
   "source": [
    "import sqlite3\n",
    "import pandas as pd"
   ]
  },
  {
   "cell_type": "code",
   "execution_count": 2,
   "metadata": {},
   "outputs": [],
   "source": [
    "# Assign sqlite database to db variable\n",
    "db = sqlite3.connect('../data/hop_teaming.sqlite')"
   ]
  },
  {
   "cell_type": "code",
   "execution_count": 3,
   "metadata": {},
   "outputs": [
    {
     "name": "stdout",
     "output_type": "stream",
     "text": [
      "['cbsa', 'referrals', 'nashville_referrals', 'nppes', 'specialty']\n"
     ]
    }
   ],
   "source": [
    "# Create a list of all of the tables in the database and print it\n",
    "tables = db.execute(\"SELECT name FROM sqlite_master WHERE type='table';\")\n",
    "all_tables = []\n",
    "for table in tables:\n",
    "    all_tables = all_tables + list(table[0].split(\" \"))\n",
    "\n",
    "print(all_tables)"
   ]
  },
  {
   "cell_type": "code",
   "execution_count": 4,
   "metadata": {},
   "outputs": [
    {
     "name": "stdout",
     "output_type": "stream",
     "text": [
      "[('table name: cbsa', ['ZIP', 'CBSA']), ('table name: referrals', ['index', 'from_npi', 'to_npi', 'patient_count', 'transaction_count', 'average_day_wait', 'std_day_wait']), ('table name: nashville_referrals', ['index', 'from_npi', 'to_npi', 'patient_count', 'transaction_count', 'average_day_wait', 'std_day_wait']), ('table name: nppes', ['npi', 'entity_type_code', 'provider_organization_name', 'provider_last_name', 'provider_first_name', 'provider_middle_name', 'provider_name_prefix', 'provider_name_suffix', 'provider_credential', 'address_01', 'address_02', 'city', 'state', 'zip_9', 'zip_5']), ('table name: specialty', ['npi', 'primary_taxonomy', 'Classification'])]\n"
     ]
    }
   ],
   "source": [
    "# Return a list of tuples, each with a table and all of its column names\n",
    "table_cols = []\n",
    "\n",
    "for table in all_tables:\n",
    "    temp = db.execute(\"PRAGMA table_info(\"+table+\")\").fetchall()\n",
    "    temp = tuple(['table name: ' + table] + [[e[1] for e in temp]])\n",
    "    table_cols.append(temp)\n",
    "\n",
    "print(table_cols)"
   ]
  },
  {
   "cell_type": "code",
   "execution_count": 5,
   "metadata": {},
   "outputs": [],
   "source": [
    "# Return the column names for the database - this is messier so commenting it out here\n",
    "# table_cols = db.execute(\"SELECT sql FROM sqlite_master WHERE type = 'table';\")\n",
    "# for table_col in table_cols:\n",
    "    # print(table_col)"
   ]
  },
  {
   "cell_type": "code",
   "execution_count": 6,
   "metadata": {},
   "outputs": [],
   "source": [
    "cbsa = \"\"\"\n",
    "SELECT COUNT(*) AS tot_rows\n",
    "    , COUNT(DISTINCT ZIP) AS num_zips\n",
    "    , COUNT(DISTINCT CBSA) AS num_CBSAs\n",
    "\n",
    "FROM cbsa    \n",
    "\"\"\"\n",
    "cbsa = pd.read_sql(cbsa, db)"
   ]
  },
  {
   "cell_type": "code",
   "execution_count": 7,
   "metadata": {},
   "outputs": [
    {
     "data": {
      "text/html": [
       "<div>\n",
       "<style scoped>\n",
       "    .dataframe tbody tr th:only-of-type {\n",
       "        vertical-align: middle;\n",
       "    }\n",
       "\n",
       "    .dataframe tbody tr th {\n",
       "        vertical-align: top;\n",
       "    }\n",
       "\n",
       "    .dataframe thead th {\n",
       "        text-align: right;\n",
       "    }\n",
       "</style>\n",
       "<table border=\"1\" class=\"dataframe\">\n",
       "  <thead>\n",
       "    <tr style=\"text-align: right;\">\n",
       "      <th></th>\n",
       "      <th>tot_rows</th>\n",
       "      <th>num_zips</th>\n",
       "      <th>num_CBSAs</th>\n",
       "    </tr>\n",
       "  </thead>\n",
       "  <tbody>\n",
       "    <tr>\n",
       "      <th>0</th>\n",
       "      <td>135</td>\n",
       "      <td>135</td>\n",
       "      <td>1</td>\n",
       "    </tr>\n",
       "  </tbody>\n",
       "</table>\n",
       "</div>"
      ],
      "text/plain": [
       "   tot_rows  num_zips  num_CBSAs\n",
       "0       135       135          1"
      ]
     },
     "execution_count": 7,
     "metadata": {},
     "output_type": "execute_result"
    }
   ],
   "source": [
    "cbsa"
   ]
  },
  {
   "cell_type": "code",
   "execution_count": 8,
   "metadata": {},
   "outputs": [],
   "source": [
    "specialty = \"\"\"\n",
    "SELECT COUNT(*) AS tot_rows\n",
    "    , COUNT(DISTINCT npi) AS num_npis\n",
    "\n",
    "FROM specialty\n",
    "\"\"\"\n",
    "specialty = pd.read_sql(specialty, db)"
   ]
  },
  {
   "cell_type": "code",
   "execution_count": 9,
   "metadata": {},
   "outputs": [
    {
     "data": {
      "text/html": [
       "<div>\n",
       "<style scoped>\n",
       "    .dataframe tbody tr th:only-of-type {\n",
       "        vertical-align: middle;\n",
       "    }\n",
       "\n",
       "    .dataframe tbody tr th {\n",
       "        vertical-align: top;\n",
       "    }\n",
       "\n",
       "    .dataframe thead th {\n",
       "        text-align: right;\n",
       "    }\n",
       "</style>\n",
       "<table border=\"1\" class=\"dataframe\">\n",
       "  <thead>\n",
       "    <tr style=\"text-align: right;\">\n",
       "      <th></th>\n",
       "      <th>tot_rows</th>\n",
       "      <th>num_npis</th>\n",
       "    </tr>\n",
       "  </thead>\n",
       "  <tbody>\n",
       "    <tr>\n",
       "      <th>0</th>\n",
       "      <td>6714038</td>\n",
       "      <td>6714038</td>\n",
       "    </tr>\n",
       "  </tbody>\n",
       "</table>\n",
       "</div>"
      ],
      "text/plain": [
       "   tot_rows  num_npis\n",
       "0   6714038   6714038"
      ]
     },
     "execution_count": 9,
     "metadata": {},
     "output_type": "execute_result"
    }
   ],
   "source": [
    "specialty"
   ]
  },
  {
   "cell_type": "code",
   "execution_count": 10,
   "metadata": {},
   "outputs": [],
   "source": [
    "referrals = \"\"\"\n",
    "SELECT COUNT(*) AS tot_rows\n",
    "    , COUNT(DISTINCT from_npi) AS tot_from_npis\n",
    "    , COUNT(DISTINCT to_npi) AS tot_to_npis\n",
    "\n",
    "FROM referrals\n",
    "\"\"\"\n",
    "referrals = pd.read_sql(referrals, db)"
   ]
  },
  {
   "cell_type": "code",
   "execution_count": 11,
   "metadata": {},
   "outputs": [
    {
     "data": {
      "text/html": [
       "<div>\n",
       "<style scoped>\n",
       "    .dataframe tbody tr th:only-of-type {\n",
       "        vertical-align: middle;\n",
       "    }\n",
       "\n",
       "    .dataframe tbody tr th {\n",
       "        vertical-align: top;\n",
       "    }\n",
       "\n",
       "    .dataframe thead th {\n",
       "        text-align: right;\n",
       "    }\n",
       "</style>\n",
       "<table border=\"1\" class=\"dataframe\">\n",
       "  <thead>\n",
       "    <tr style=\"text-align: right;\">\n",
       "      <th></th>\n",
       "      <th>tot_rows</th>\n",
       "      <th>tot_from_npis</th>\n",
       "      <th>tot_to_npis</th>\n",
       "    </tr>\n",
       "  </thead>\n",
       "  <tbody>\n",
       "    <tr>\n",
       "      <th>0</th>\n",
       "      <td>31704890</td>\n",
       "      <td>1258830</td>\n",
       "      <td>1250130</td>\n",
       "    </tr>\n",
       "  </tbody>\n",
       "</table>\n",
       "</div>"
      ],
      "text/plain": [
       "   tot_rows  tot_from_npis  tot_to_npis\n",
       "0  31704890        1258830      1250130"
      ]
     },
     "execution_count": 11,
     "metadata": {},
     "output_type": "execute_result"
    }
   ],
   "source": [
    "referrals"
   ]
  },
  {
   "cell_type": "code",
   "execution_count": 13,
   "metadata": {},
   "outputs": [],
   "source": [
    "nashville_referrals = \"\"\"\n",
    "SELECT COUNT(*) AS tot_rows\n",
    "    , COUNT(DISTINCT from_npi) AS tot_from_npis\n",
    "    , COUNT(DISTINCT to_npi) AS tot_to_npis\n",
    "\n",
    "FROM nashville_referrals\n",
    "\"\"\"\n",
    "nashville_referrals = pd.read_sql(nashville_referrals, db)"
   ]
  },
  {
   "cell_type": "code",
   "execution_count": 14,
   "metadata": {},
   "outputs": [
    {
     "data": {
      "text/html": [
       "<div>\n",
       "<style scoped>\n",
       "    .dataframe tbody tr th:only-of-type {\n",
       "        vertical-align: middle;\n",
       "    }\n",
       "\n",
       "    .dataframe tbody tr th {\n",
       "        vertical-align: top;\n",
       "    }\n",
       "\n",
       "    .dataframe thead th {\n",
       "        text-align: right;\n",
       "    }\n",
       "</style>\n",
       "<table border=\"1\" class=\"dataframe\">\n",
       "  <thead>\n",
       "    <tr style=\"text-align: right;\">\n",
       "      <th></th>\n",
       "      <th>tot_rows</th>\n",
       "      <th>tot_from_npis</th>\n",
       "      <th>tot_to_npis</th>\n",
       "    </tr>\n",
       "  </thead>\n",
       "  <tbody>\n",
       "    <tr>\n",
       "      <th>0</th>\n",
       "      <td>290032</td>\n",
       "      <td>37505</td>\n",
       "      <td>38811</td>\n",
       "    </tr>\n",
       "  </tbody>\n",
       "</table>\n",
       "</div>"
      ],
      "text/plain": [
       "   tot_rows  tot_from_npis  tot_to_npis\n",
       "0    290032          37505        38811"
      ]
     },
     "execution_count": 14,
     "metadata": {},
     "output_type": "execute_result"
    }
   ],
   "source": [
    "nashville_referrals"
   ]
  },
  {
   "cell_type": "code",
   "execution_count": 15,
   "metadata": {},
   "outputs": [],
   "source": [
    "nppes = \"\"\"\n",
    "SELECT COUNT(*) AS tot_rows\n",
    "    , COUNT(DISTINCT npi) AS num_npis\n",
    "\n",
    "FROM nppes\n",
    "\"\"\"\n",
    "nppes = pd.read_sql(nppes, db)"
   ]
  },
  {
   "cell_type": "code",
   "execution_count": 16,
   "metadata": {},
   "outputs": [
    {
     "data": {
      "text/html": [
       "<div>\n",
       "<style scoped>\n",
       "    .dataframe tbody tr th:only-of-type {\n",
       "        vertical-align: middle;\n",
       "    }\n",
       "\n",
       "    .dataframe tbody tr th {\n",
       "        vertical-align: top;\n",
       "    }\n",
       "\n",
       "    .dataframe thead th {\n",
       "        text-align: right;\n",
       "    }\n",
       "</style>\n",
       "<table border=\"1\" class=\"dataframe\">\n",
       "  <thead>\n",
       "    <tr style=\"text-align: right;\">\n",
       "      <th></th>\n",
       "      <th>tot_rows</th>\n",
       "      <th>num_npis</th>\n",
       "    </tr>\n",
       "  </thead>\n",
       "  <tbody>\n",
       "    <tr>\n",
       "      <th>0</th>\n",
       "      <td>6714038</td>\n",
       "      <td>6714038</td>\n",
       "    </tr>\n",
       "  </tbody>\n",
       "</table>\n",
       "</div>"
      ],
      "text/plain": [
       "   tot_rows  num_npis\n",
       "0   6714038   6714038"
      ]
     },
     "execution_count": 16,
     "metadata": {},
     "output_type": "execute_result"
    }
   ],
   "source": [
    "nppes"
   ]
  },
  {
   "cell_type": "code",
   "execution_count": 17,
   "metadata": {},
   "outputs": [],
   "source": [
    "# Close the db connection\n",
    "db.close()"
   ]
  },
  {
   "cell_type": "code",
   "execution_count": null,
   "metadata": {},
   "outputs": [],
   "source": []
  }
 ],
 "metadata": {
  "kernelspec": {
   "display_name": "Python 3",
   "language": "python",
   "name": "python3"
  },
  "language_info": {
   "codemirror_mode": {
    "name": "ipython",
    "version": 3
   },
   "file_extension": ".py",
   "mimetype": "text/x-python",
   "name": "python",
   "nbconvert_exporter": "python",
   "pygments_lexer": "ipython3",
   "version": "3.8.3"
  }
 },
 "nbformat": 4,
 "nbformat_minor": 4
}
