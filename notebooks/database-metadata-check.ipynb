{
 "cells": [
  {
   "cell_type": "markdown",
   "metadata": {},
   "source": [
    "# Database Check\n",
    "\n",
    "*Some code to grab database metadata including table names and columns.*"
   ]
  },
  {
   "cell_type": "code",
   "execution_count": 10,
   "metadata": {},
   "outputs": [],
   "source": [
    "import sqlite3\n",
    "import pandas as pd"
   ]
  },
  {
   "cell_type": "code",
   "execution_count": 11,
   "metadata": {},
   "outputs": [],
   "source": [
    "# Assign sqlite database to db variable\n",
    "db = sqlite3.connect('../data/hop_teaming.sqlite')"
   ]
  },
  {
   "cell_type": "code",
   "execution_count": 12,
   "metadata": {},
   "outputs": [
    {
     "name": "stdout",
     "output_type": "stream",
     "text": [
      "['cbsa', 'specialty', 'referrals', 'nashville_referrals', 'nppes']\n"
     ]
    }
   ],
   "source": [
    "# Create a list of all of the tables in the database and print it\n",
    "tables = db.execute(\"SELECT name FROM sqlite_master WHERE type='table';\")\n",
    "all_tables = []\n",
    "for table in tables:\n",
    "    all_tables = all_tables + list(table[0].split(\" \"))\n",
    "\n",
    "print(all_tables)"
   ]
  },
  {
   "cell_type": "code",
   "execution_count": 14,
   "metadata": {},
   "outputs": [
    {
     "name": "stdout",
     "output_type": "stream",
     "text": [
      "[('table name: cbsa', ['ZIP', 'CBSA']), ('table name: specialty', ['npi', 'primary_taxonomy', 'Classification']), ('table name: referrals', ['index', 'from_npi', 'to_npi', 'patient_count', 'transaction_count', 'average_day_wait', 'std_day_wait']), ('table name: nashville_referrals', ['index', 'from_npi', 'to_npi', 'patient_count', 'transaction_count', 'average_day_wait', 'std_day_wait']), ('table name: nppes', ['npi', 'entity_type_code', 'provider_organization_name', 'provider_last_name', 'provider_first_name', 'provider_middle_name', 'provider_name_prefix', 'provider_name_suffix', 'provider_credential', 'address_01', 'address_02', 'city', 'state', 'zip_9', 'zip_5'])]\n"
     ]
    }
   ],
   "source": [
    "# Return a list of tuples, each with a table and all of its column names\n",
    "table_cols = []\n",
    "\n",
    "for table in all_tables:\n",
    "    temp = db.execute(\"PRAGMA table_info(\"+table+\")\").fetchall()\n",
    "    temp = tuple(['table name: ' + table] + [[e[1] for e in temp]])\n",
    "    table_cols.append(temp)\n",
    "\n",
    "print(table_cols)"
   ]
  },
  {
   "cell_type": "code",
   "execution_count": 15,
   "metadata": {},
   "outputs": [],
   "source": [
    "# Return the column names for the database - this is messier so commenting it out here\n",
    "# table_cols = db.execute(\"SELECT sql FROM sqlite_master WHERE type = 'table';\")\n",
    "# for table_col in table_cols:\n",
    "    # print(table_col)"
   ]
  },
  {
   "cell_type": "code",
   "execution_count": 16,
   "metadata": {},
   "outputs": [],
   "source": [
    "# Close the db connection\n",
    "db.close()"
   ]
  },
  {
   "cell_type": "code",
   "execution_count": null,
   "metadata": {},
   "outputs": [],
   "source": []
  }
 ],
 "metadata": {
  "kernelspec": {
   "display_name": "Python 3",
   "language": "python",
   "name": "python3"
  },
  "language_info": {
   "codemirror_mode": {
    "name": "ipython",
    "version": 3
   },
   "file_extension": ".py",
   "mimetype": "text/x-python",
   "name": "python",
   "nbconvert_exporter": "python",
   "pygments_lexer": "ipython3",
   "version": "3.8.3"
  }
 },
 "nbformat": 4,
 "nbformat_minor": 4
}
