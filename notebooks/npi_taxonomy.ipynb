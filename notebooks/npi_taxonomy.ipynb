{
 "cells": [
  {
   "cell_type": "code",
   "execution_count": null,
   "metadata": {},
   "outputs": [],
   "source": [
    "import pandas as pd\n",
    "from tqdm.notebook import tqdm"
   ]
  },
  {
   "cell_type": "code",
   "execution_count": null,
   "metadata": {},
   "outputs": [],
   "source": [
    "npi_specialty = []"
   ]
  },
  {
   "cell_type": "code",
   "execution_count": null,
   "metadata": {},
   "outputs": [],
   "source": [
    "def get_primary_tax(row):\n",
    "    if row['Healthcare Provider Primary Taxonomy Switch_1'] == 'Y':\n",
    "        tax = row['Healthcare Provider Taxonomy Code_1']\n",
    "    elif row['Healthcare Provider Primary Taxonomy Switch_2'] == 'Y':\n",
    "        tax = row['Healthcare Provider Taxonomy Code_2']\n",
    "    elif row['Healthcare Provider Primary Taxonomy Switch_3'] == 'Y':\n",
    "        tax = row['Healthcare Provider Taxonomy Code_3']\n",
    "    elif row['Healthcare Provider Primary Taxonomy Switch_4'] == 'Y':\n",
    "        tax = row['Healthcare Provider Taxonomy Code_4']\n",
    "    elif row['Healthcare Provider Primary Taxonomy Switch_5'] == 'Y':\n",
    "        tax = row['Healthcare Provider Taxonomy Code_5']\n",
    "    elif row['Healthcare Provider Primary Taxonomy Switch_6'] == 'Y':\n",
    "        tax = row['Healthcare Provider Taxonomy Code_6']\n",
    "    elif row['Healthcare Provider Primary Taxonomy Switch_7'] == 'Y':\n",
    "        tax = row['Healthcare Provider Taxonomy Code_7']\n",
    "    elif row['Healthcare Provider Primary Taxonomy Switch_8'] == 'Y':\n",
    "        tax = row['Healthcare Provider Taxonomy Code_8']\n",
    "    elif row['Healthcare Provider Primary Taxonomy Switch_9'] == 'Y':\n",
    "        tax = row['Healthcare Provider Taxonomy Code_9']\n",
    "    elif row['Healthcare Provider Primary Taxonomy Switch_10'] == 'Y':\n",
    "        tax = row['Healthcare Provider Taxonomy Code_10']\n",
    "    elif row['Healthcare Provider Primary Taxonomy Switch_11'] == 'Y':\n",
    "        tax = row['Healthcare Provider Taxonomy Code_11']\n",
    "    elif row['Healthcare Provider Primary Taxonomy Switch_12'] == 'Y':\n",
    "        tax = row['Healthcare Provider Taxonomy Code_12']\n",
    "    elif row['Healthcare Provider Primary Taxonomy Switch_13'] == 'Y':\n",
    "        tax = row['Healthcare Provider Taxonomy Code_13']\n",
    "    elif row['Healthcare Provider Primary Taxonomy Switch_14'] == 'Y':\n",
    "        tax = row['Healthcare Provider Taxonomy Code_14']\n",
    "    elif row['Healthcare Provider Primary Taxonomy Switch_14'] == 'Y':\n",
    "        tax = row['Healthcare Provider Taxonomy Code_14']\n",
    "    else:        \n",
    "        tax = ''\n",
    "    return tax"
   ]
  },
  {
   "cell_type": "code",
   "execution_count": null,
   "metadata": {},
   "outputs": [],
   "source": [
    "#this produces a lot of warnings if you run it without the low_memory parameter set\n",
    "for chunk in tqdm(pd.read_csv('../data/npidata_pfile_20050523-20210207.csv', chunksize = 50000, low_memory=False)):\n",
    "    for index, row in chunk.iterrows():\n",
    "        npi = row['NPI']\n",
    "        primary_tax = get_primary_tax(row)\n",
    "        npi_specialty.append([npi, primary_tax])"
   ]
  },
  {
   "cell_type": "code",
   "execution_count": null,
   "metadata": {},
   "outputs": [],
   "source": [
    "npi_specialty = pd.DataFrame(npi_specialty)\n",
    "npi_specialty.columns = ['npi','primary_taxonomy']"
   ]
  },
  {
   "cell_type": "code",
   "execution_count": null,
   "metadata": {},
   "outputs": [],
   "source": [
    "tax_desc = pd.read_csv('../data/nucc_taxonomy_201.csv')"
   ]
  },
  {
   "cell_type": "code",
   "execution_count": null,
   "metadata": {},
   "outputs": [],
   "source": [
    "tax_desc = tax_desc[['Code','Classification']]"
   ]
  },
  {
   "cell_type": "code",
   "execution_count": null,
   "metadata": {},
   "outputs": [],
   "source": [
    "npi_specialty = npi_specialty.merge(tax_desc, how='left', left_on='primary_taxonomy', right_on = 'Code')"
   ]
  },
  {
   "cell_type": "code",
   "execution_count": null,
   "metadata": {},
   "outputs": [],
   "source": [
    "npi_specialty.drop(columns = ['Code'], inplace=True)"
   ]
  },
  {
   "cell_type": "code",
   "execution_count": null,
   "metadata": {},
   "outputs": [],
   "source": [
    "npi_specialty.to_csv('../data/npi_specialty.csv',index=False)"
   ]
  },
  {
   "cell_type": "code",
   "execution_count": null,
   "metadata": {},
   "outputs": [],
   "source": [
    "npi_specialty = pd.read_csv('../data/npi_specialty.csv')"
   ]
  },
  {
   "cell_type": "code",
   "execution_count": null,
   "metadata": {},
   "outputs": [],
   "source": [
    "npi_specialty.head(10)"
   ]
  }
 ],
 "metadata": {
  "kernelspec": {
   "display_name": "Python 3",
   "language": "python",
   "name": "python3"
  },
  "language_info": {
   "codemirror_mode": {
    "name": "ipython",
    "version": 3
   },
   "file_extension": ".py",
   "mimetype": "text/x-python",
   "name": "python",
   "nbconvert_exporter": "python",
   "pygments_lexer": "ipython3",
   "version": "3.8.3"
  }
 },
 "nbformat": 4,
 "nbformat_minor": 4
}
