{
 "cells": [
  {
   "cell_type": "code",
   "execution_count": 3,
   "metadata": {},
   "outputs": [],
   "source": [
    "# import libraries\n",
    "import pandas as pd\n",
    "import sqlite3"
   ]
  },
  {
   "cell_type": "code",
   "execution_count": 4,
   "metadata": {},
   "outputs": [],
   "source": [
    "#tables = db.execute(\"SELECT name FROM sqlite_master WHERE type='table';\")\n",
    "#for table in tables:\n",
    "#    print(table[0])"
   ]
  },
  {
   "cell_type": "code",
   "execution_count": 5,
   "metadata": {},
   "outputs": [],
   "source": [
    "#col = db.execute(\"PRAGMA table_info(nashville_referrals)\").fetchall()\n",
    "#print([e[1] for e in col])"
   ]
  },
  {
   "cell_type": "code",
   "execution_count": null,
   "metadata": {},
   "outputs": [],
   "source": []
  },
  {
   "cell_type": "code",
   "execution_count": 8,
   "metadata": {},
   "outputs": [],
   "source": [
    "#Load the csv that was outputted from Neo4j and the new referrals data\n",
    "\n",
    "communities = pd.read_csv('../data/communities_nashville_referrals_normalised_only_hospitals_any_avg_day_wait.csv')\n",
    "nash_vegas = pd.read_csv('../data/nashville_referrals_normalised_only_hospitals_any_avg_day_wait.csv')"
   ]
  },
  {
   "cell_type": "code",
   "execution_count": null,
   "metadata": {},
   "outputs": [],
   "source": []
  },
  {
   "cell_type": "code",
   "execution_count": 10,
   "metadata": {},
   "outputs": [],
   "source": [
    "nash_vegas.reset_index(drop = True)\n",
    "nash_vegas = nash_vegas.drop(['index', 'Unnamed: 0'], axis = 1)"
   ]
  },
  {
   "cell_type": "code",
   "execution_count": 11,
   "metadata": {},
   "outputs": [
    {
     "name": "stdout",
     "output_type": "stream",
     "text": [
      "<class 'pandas.core.frame.DataFrame'>\n",
      "RangeIndex: 6436 entries, 0 to 6435\n",
      "Data columns (total 15 columns):\n",
      " #   Column                       Non-Null Count  Dtype  \n",
      "---  ------                       --------------  -----  \n",
      " 0   from_npi                     6436 non-null   int64  \n",
      " 1   to_npi                       6436 non-null   int64  \n",
      " 2   patient_count                6436 non-null   int64  \n",
      " 3   transaction_count            6436 non-null   int64  \n",
      " 4   average_day_wait             6436 non-null   float64\n",
      " 5   std_day_wait                 6436 non-null   float64\n",
      " 6   from_zip                     6436 non-null   int64  \n",
      " 7   from_npi_specialty           6425 non-null   object \n",
      " 8   from_entity_type_code        6436 non-null   float64\n",
      " 9   to_zip                       6436 non-null   int64  \n",
      " 10  to_npi_specialty             6436 non-null   object \n",
      " 11  to_entity_type_code          6436 non-null   float64\n",
      " 12  to_facility                  6436 non-null   object \n",
      " 13  to_facility_group            6436 non-null   object \n",
      " 14  to_facility_name_normalised  6436 non-null   object \n",
      "dtypes: float64(4), int64(6), object(5)\n",
      "memory usage: 754.3+ KB\n"
     ]
    }
   ],
   "source": [
    "nash_vegas.info()"
   ]
  },
  {
   "cell_type": "code",
   "execution_count": 12,
   "metadata": {},
   "outputs": [
    {
     "data": {
      "text/html": [
       "<div>\n",
       "<style scoped>\n",
       "    .dataframe tbody tr th:only-of-type {\n",
       "        vertical-align: middle;\n",
       "    }\n",
       "\n",
       "    .dataframe tbody tr th {\n",
       "        vertical-align: top;\n",
       "    }\n",
       "\n",
       "    .dataframe thead th {\n",
       "        text-align: right;\n",
       "    }\n",
       "</style>\n",
       "<table border=\"1\" class=\"dataframe\">\n",
       "  <thead>\n",
       "    <tr style=\"text-align: right;\">\n",
       "      <th></th>\n",
       "      <th>npi</th>\n",
       "      <th>communityId</th>\n",
       "    </tr>\n",
       "  </thead>\n",
       "  <tbody>\n",
       "    <tr>\n",
       "      <th>0</th>\n",
       "      <td>1003013947</td>\n",
       "      <td>4234</td>\n",
       "    </tr>\n",
       "    <tr>\n",
       "      <th>1</th>\n",
       "      <td>1003019902</td>\n",
       "      <td>4244</td>\n",
       "    </tr>\n",
       "    <tr>\n",
       "      <th>2</th>\n",
       "      <td>1003031261</td>\n",
       "      <td>4234</td>\n",
       "    </tr>\n",
       "    <tr>\n",
       "      <th>3</th>\n",
       "      <td>1003050972</td>\n",
       "      <td>4244</td>\n",
       "    </tr>\n",
       "    <tr>\n",
       "      <th>4</th>\n",
       "      <td>1003063314</td>\n",
       "      <td>4244</td>\n",
       "    </tr>\n",
       "    <tr>\n",
       "      <th>5</th>\n",
       "      <td>1003071333</td>\n",
       "      <td>2542</td>\n",
       "    </tr>\n",
       "    <tr>\n",
       "      <th>6</th>\n",
       "      <td>1003075862</td>\n",
       "      <td>2802</td>\n",
       "    </tr>\n",
       "    <tr>\n",
       "      <th>7</th>\n",
       "      <td>1003077728</td>\n",
       "      <td>4244</td>\n",
       "    </tr>\n",
       "    <tr>\n",
       "      <th>8</th>\n",
       "      <td>1003090424</td>\n",
       "      <td>4234</td>\n",
       "    </tr>\n",
       "    <tr>\n",
       "      <th>9</th>\n",
       "      <td>1003098963</td>\n",
       "      <td>4244</td>\n",
       "    </tr>\n",
       "  </tbody>\n",
       "</table>\n",
       "</div>"
      ],
      "text/plain": [
       "          npi  communityId\n",
       "0  1003013947         4234\n",
       "1  1003019902         4244\n",
       "2  1003031261         4234\n",
       "3  1003050972         4244\n",
       "4  1003063314         4244\n",
       "5  1003071333         2542\n",
       "6  1003075862         2802\n",
       "7  1003077728         4244\n",
       "8  1003090424         4234\n",
       "9  1003098963         4244"
      ]
     },
     "execution_count": 12,
     "metadata": {},
     "output_type": "execute_result"
    }
   ],
   "source": [
    "#Just checking\n",
    "\n",
    "communities.head(10)"
   ]
  },
  {
   "cell_type": "code",
   "execution_count": 13,
   "metadata": {},
   "outputs": [
    {
     "name": "stdout",
     "output_type": "stream",
     "text": [
      "<class 'pandas.core.frame.DataFrame'>\n",
      "RangeIndex: 4250 entries, 0 to 4249\n",
      "Data columns (total 2 columns):\n",
      " #   Column       Non-Null Count  Dtype\n",
      "---  ------       --------------  -----\n",
      " 0   npi          4250 non-null   int64\n",
      " 1   communityId  4250 non-null   int64\n",
      "dtypes: int64(2)\n",
      "memory usage: 66.5 KB\n"
     ]
    }
   ],
   "source": [
    "#Just checking\n",
    "\n",
    "communities.info()"
   ]
  },
  {
   "cell_type": "code",
   "execution_count": 14,
   "metadata": {},
   "outputs": [
    {
     "data": {
      "text/plain": [
       "array([4234, 4244, 2542, 2802, 4226, 4245, 4239, 4247, 4238, 4236],\n",
       "      dtype=int64)"
      ]
     },
     "execution_count": 14,
     "metadata": {},
     "output_type": "execute_result"
    }
   ],
   "source": [
    "#Creates a list of the unique communities\n",
    "\n",
    "communities.communityId.unique()"
   ]
  },
  {
   "cell_type": "code",
   "execution_count": 15,
   "metadata": {},
   "outputs": [
    {
     "data": {
      "text/plain": [
       "10"
      ]
     },
     "execution_count": 15,
     "metadata": {},
     "output_type": "execute_result"
    }
   ],
   "source": [
    "#Number of unique communities\n",
    "\n",
    "#ref_int_comm_patient.communityId.nunique()\n",
    "\n",
    "communities.communityId.nunique()"
   ]
  },
  {
   "cell_type": "code",
   "execution_count": 26,
   "metadata": {},
   "outputs": [],
   "source": [
    "db = sqlite3.connect('../data/hop_teaming.sqlite')"
   ]
  },
  {
   "cell_type": "code",
   "execution_count": 27,
   "metadata": {},
   "outputs": [
    {
     "data": {
      "text/plain": [
       "<sqlite3.Cursor at 0x21e86550500>"
      ]
     },
     "execution_count": 27,
     "metadata": {},
     "output_type": "execute_result"
    }
   ],
   "source": [
    "#If recreation is needed\n",
    "\n",
    "#db.execute('DROP TABLE communities')\n",
    "#db.execute('DROP TABLE communities_pats')\n",
    "db.execute('DROP TABLE nash_vegas')"
   ]
  },
  {
   "cell_type": "code",
   "execution_count": 28,
   "metadata": {},
   "outputs": [],
   "source": [
    "#Creates the new table 'communities' in our sqlite db \n",
    "\n",
    "#communities.to_sql('communities', db, index = False)\n",
    "nash_vegas.to_sql('nash_vegas', db, index = False)\n",
    "#ref_int_comm_transaction.to_sql('communities_trans', db, index = False)\n",
    "#ref_int_comm_patient.to_sql('communities_pats', db, index = False)"
   ]
  },
  {
   "cell_type": "code",
   "execution_count": 29,
   "metadata": {},
   "outputs": [
    {
     "name": "stdout",
     "output_type": "stream",
     "text": [
      "cbsa\n",
      "specialty\n",
      "referrals\n",
      "nashville_referrals\n",
      "nppes\n",
      "communities_pats\n",
      "communities\n",
      "nash_vegas\n"
     ]
    }
   ],
   "source": [
    "#Checks that the table has been added\n",
    "\n",
    "tables = db.execute(\"SELECT name FROM sqlite_master WHERE type='table';\")\n",
    "for table in tables:\n",
    "    print(table[0])"
   ]
  },
  {
   "cell_type": "code",
   "execution_count": 23,
   "metadata": {},
   "outputs": [
    {
     "name": "stdout",
     "output_type": "stream",
     "text": [
      "['npi', 'communityId']\n"
     ]
    }
   ],
   "source": [
    "#Checks table columns\n",
    "\n",
    "col = db.execute(\"PRAGMA table_info(communities)\").fetchall()\n",
    "print([e[1] for e in col])"
   ]
  },
  {
   "cell_type": "code",
   "execution_count": 30,
   "metadata": {},
   "outputs": [],
   "source": [
    "db.close()"
   ]
  },
  {
   "cell_type": "code",
   "execution_count": null,
   "metadata": {},
   "outputs": [],
   "source": []
  }
 ],
 "metadata": {
  "kernelspec": {
   "display_name": "Python 3",
   "language": "python",
   "name": "python3"
  },
  "language_info": {
   "codemirror_mode": {
    "name": "ipython",
    "version": 3
   },
   "file_extension": ".py",
   "mimetype": "text/x-python",
   "name": "python",
   "nbconvert_exporter": "python",
   "pygments_lexer": "ipython3",
   "version": "3.8.5"
  }
 },
 "nbformat": 4,
 "nbformat_minor": 4
}
