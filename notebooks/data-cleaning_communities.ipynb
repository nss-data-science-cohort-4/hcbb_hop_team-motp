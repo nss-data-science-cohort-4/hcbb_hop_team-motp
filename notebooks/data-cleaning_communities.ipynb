{
 "cells": [
  {
   "cell_type": "code",
   "execution_count": 1,
   "metadata": {},
   "outputs": [],
   "source": [
    "# import libraries\n",
    "import pandas as pd\n",
    "import sqlite3"
   ]
  },
  {
   "cell_type": "code",
   "execution_count": 3,
   "metadata": {},
   "outputs": [],
   "source": [
    "#tables = db.execute(\"SELECT name FROM sqlite_master WHERE type='table';\")\n",
    "#for table in tables:\n",
    "#    print(table[0])"
   ]
  },
  {
   "cell_type": "code",
   "execution_count": 4,
   "metadata": {},
   "outputs": [],
   "source": [
    "#col = db.execute(\"PRAGMA table_info(nashville_referrals)\").fetchall()\n",
    "#print([e[1] for e in col])"
   ]
  },
  {
   "cell_type": "code",
   "execution_count": 5,
   "metadata": {},
   "outputs": [],
   "source": [
    "#Load the csv that was outputted from Neo4j\n",
    "\n",
    "ref_communities = pd.read_csv('../data/nashville_refs_int_communities.csv')"
   ]
  },
  {
   "cell_type": "code",
   "execution_count": 6,
   "metadata": {},
   "outputs": [
    {
     "data": {
      "text/html": [
       "<div>\n",
       "<style scoped>\n",
       "    .dataframe tbody tr th:only-of-type {\n",
       "        vertical-align: middle;\n",
       "    }\n",
       "\n",
       "    .dataframe tbody tr th {\n",
       "        vertical-align: top;\n",
       "    }\n",
       "\n",
       "    .dataframe thead th {\n",
       "        text-align: right;\n",
       "    }\n",
       "</style>\n",
       "<table border=\"1\" class=\"dataframe\">\n",
       "  <thead>\n",
       "    <tr style=\"text-align: right;\">\n",
       "      <th></th>\n",
       "      <th>npi</th>\n",
       "      <th>communityId</th>\n",
       "    </tr>\n",
       "  </thead>\n",
       "  <tbody>\n",
       "    <tr>\n",
       "      <th>0</th>\n",
       "      <td>1003013947</td>\n",
       "      <td>2293</td>\n",
       "    </tr>\n",
       "    <tr>\n",
       "      <th>1</th>\n",
       "      <td>1003019902</td>\n",
       "      <td>713</td>\n",
       "    </tr>\n",
       "    <tr>\n",
       "      <th>2</th>\n",
       "      <td>1003028770</td>\n",
       "      <td>567</td>\n",
       "    </tr>\n",
       "    <tr>\n",
       "      <th>3</th>\n",
       "      <td>1003031261</td>\n",
       "      <td>1186</td>\n",
       "    </tr>\n",
       "    <tr>\n",
       "      <th>4</th>\n",
       "      <td>1003037029</td>\n",
       "      <td>567</td>\n",
       "    </tr>\n",
       "    <tr>\n",
       "      <th>...</th>\n",
       "      <td>...</td>\n",
       "      <td>...</td>\n",
       "    </tr>\n",
       "    <tr>\n",
       "      <th>7514</th>\n",
       "      <td>1992972087</td>\n",
       "      <td>2293</td>\n",
       "    </tr>\n",
       "    <tr>\n",
       "      <th>7515</th>\n",
       "      <td>1992978845</td>\n",
       "      <td>235</td>\n",
       "    </tr>\n",
       "    <tr>\n",
       "      <th>7516</th>\n",
       "      <td>1992985055</td>\n",
       "      <td>5553</td>\n",
       "    </tr>\n",
       "    <tr>\n",
       "      <th>7517</th>\n",
       "      <td>1992985949</td>\n",
       "      <td>2293</td>\n",
       "    </tr>\n",
       "    <tr>\n",
       "      <th>7518</th>\n",
       "      <td>1992987085</td>\n",
       "      <td>713</td>\n",
       "    </tr>\n",
       "  </tbody>\n",
       "</table>\n",
       "<p>7519 rows × 2 columns</p>\n",
       "</div>"
      ],
      "text/plain": [
       "             npi  communityId\n",
       "0     1003013947         2293\n",
       "1     1003019902          713\n",
       "2     1003028770          567\n",
       "3     1003031261         1186\n",
       "4     1003037029          567\n",
       "...          ...          ...\n",
       "7514  1992972087         2293\n",
       "7515  1992978845          235\n",
       "7516  1992985055         5553\n",
       "7517  1992985949         2293\n",
       "7518  1992987085          713\n",
       "\n",
       "[7519 rows x 2 columns]"
      ]
     },
     "execution_count": 6,
     "metadata": {},
     "output_type": "execute_result"
    }
   ],
   "source": [
    "#Just checking\n",
    "\n",
    "ref_communities"
   ]
  },
  {
   "cell_type": "code",
   "execution_count": 8,
   "metadata": {},
   "outputs": [
    {
     "name": "stdout",
     "output_type": "stream",
     "text": [
      "<class 'pandas.core.frame.DataFrame'>\n",
      "RangeIndex: 7519 entries, 0 to 7518\n",
      "Data columns (total 2 columns):\n",
      " #   Column       Non-Null Count  Dtype\n",
      "---  ------       --------------  -----\n",
      " 0   npi          7519 non-null   int64\n",
      " 1   communityId  7519 non-null   int64\n",
      "dtypes: int64(2)\n",
      "memory usage: 117.6 KB\n"
     ]
    }
   ],
   "source": [
    "#Just checking\n",
    "\n",
    "ref_communities.info()"
   ]
  },
  {
   "cell_type": "code",
   "execution_count": 15,
   "metadata": {},
   "outputs": [
    {
     "data": {
      "text/plain": [
       "array([2293,  713,  567, 1186, 1901, 2186, 1474,  275, 6486, 2289, 1295,\n",
       "        257,  235, 2307, 7307, 1465, 7093, 7320, 1476, 5412,  169, 7094,\n",
       "       4252, 6842, 6565, 5640, 6566,  225, 6747, 6875, 6844,  429,  975,\n",
       "       6596, 5643, 5553, 7407, 7392, 7321, 5645, 7095, 5544, 7311, 7177,\n",
       "       5615, 5650, 6869, 6598, 5549, 5564, 6489, 6503, 6569, 6932, 6103,\n",
       "       2767, 5534, 6847, 7097, 3321, 7128, 6035, 1303, 6732, 7178, 5921,\n",
       "       7324, 6753, 6767, 5062, 5765, 7211, 5882, 1939, 7032, 5873, 5877,\n",
       "       7100, 7512, 6935, 3952, 7033, 5860, 7034, 6865, 6849, 3543, 6863,\n",
       "       7179, 5695, 6861, 6867, 7102, 6749, 7112, 6864, 6884, 7035, 6883,\n",
       "       6887, 7329, 6870, 1444, 7364, 7221, 7350, 7389, 7342, 7384, 7383,\n",
       "       7335, 7344, 7355, 7354, 7396, 7378, 7356, 7372, 7370, 5791, 7225,\n",
       "       7081, 7078, 7061, 7134,  101, 7066, 7106, 7107, 7076, 7044, 6421,\n",
       "       7068, 7108, 7084, 7124, 7041, 3899, 7126, 7117, 6941, 6510, 6968,\n",
       "       7121, 7122, 6944, 6520, 6945, 6900, 6902, 6946, 5814, 7238, 6971,\n",
       "       7239, 6659, 4682, 6972, 7139, 6947, 4824, 4836, 7182, 6516, 6415,\n",
       "       6060, 6948, 7245, 6904, 6239, 6194, 6631, 7009, 7143, 7144, 6905,\n",
       "       6949, 6144, 6950, 6634, 6951, 6635, 6954, 6975, 7146, 6435, 6065,\n",
       "       7414, 7184, 6446, 6644, 6571, 5938, 6957, 7258, 6572, 6959, 6977,\n",
       "       6960, 6961, 4056, 6978, 6069, 5960,   99, 7263, 7264, 7193, 7047,\n",
       "       7283, 7279, 7301, 7289, 6915, 6984, 7151, 7152, 6985, 6924, 6923,\n",
       "       7021, 7155, 7188, 7051, 6676, 7164, 7165, 6681, 7166, 6993, 6995,\n",
       "       7170, 6555, 6559], dtype=int64)"
      ]
     },
     "execution_count": 15,
     "metadata": {},
     "output_type": "execute_result"
    }
   ],
   "source": [
    "#Creates a list of the unique communities\n",
    "\n",
    "ref_communities.communityId.unique()"
   ]
  },
  {
   "cell_type": "code",
   "execution_count": 16,
   "metadata": {},
   "outputs": [
    {
     "data": {
      "text/plain": [
       "234"
      ]
     },
     "execution_count": 16,
     "metadata": {},
     "output_type": "execute_result"
    }
   ],
   "source": [
    "#Number of unique communities\n",
    "\n",
    "ref_communities.communityId.nunique()"
   ]
  },
  {
   "cell_type": "code",
   "execution_count": 18,
   "metadata": {},
   "outputs": [],
   "source": [
    "db = sqlite3.connect('../data/hop_teaming.sqlite')"
   ]
  },
  {
   "cell_type": "code",
   "execution_count": 23,
   "metadata": {},
   "outputs": [
    {
     "data": {
      "text/plain": [
       "<sqlite3.Cursor at 0x1b5bdb6c9d0>"
      ]
     },
     "execution_count": 23,
     "metadata": {},
     "output_type": "execute_result"
    }
   ],
   "source": [
    "#If recreation is needed\n",
    "\n",
    "#db.execute('DROP TABLE communities')"
   ]
  },
  {
   "cell_type": "code",
   "execution_count": 25,
   "metadata": {},
   "outputs": [],
   "source": [
    "#Creates the new table 'communities' in our sqlite db \n",
    "\n",
    "ref_communities.to_sql('communities', db, index = False)"
   ]
  },
  {
   "cell_type": "code",
   "execution_count": 26,
   "metadata": {},
   "outputs": [
    {
     "name": "stdout",
     "output_type": "stream",
     "text": [
      "cbsa\n",
      "specialty\n",
      "referrals\n",
      "nashville_referrals\n",
      "nppes\n",
      "communities\n"
     ]
    }
   ],
   "source": [
    "#Checks that the table has been added\n",
    "\n",
    "tables = db.execute(\"SELECT name FROM sqlite_master WHERE type='table';\")\n",
    "for table in tables:\n",
    "    print(table[0])"
   ]
  },
  {
   "cell_type": "code",
   "execution_count": 27,
   "metadata": {},
   "outputs": [
    {
     "name": "stdout",
     "output_type": "stream",
     "text": [
      "['npi', 'communityId']\n"
     ]
    }
   ],
   "source": [
    "#Checks table columns\n",
    "\n",
    "col = db.execute(\"PRAGMA table_info(communities)\").fetchall()\n",
    "print([e[1] for e in col])"
   ]
  },
  {
   "cell_type": "code",
   "execution_count": 28,
   "metadata": {},
   "outputs": [],
   "source": [
    "db.close()"
   ]
  }
 ],
 "metadata": {
  "kernelspec": {
   "display_name": "Python 3",
   "language": "python",
   "name": "python3"
  },
  "language_info": {
   "codemirror_mode": {
    "name": "ipython",
    "version": 3
   },
   "file_extension": ".py",
   "mimetype": "text/x-python",
   "name": "python",
   "nbconvert_exporter": "python",
   "pygments_lexer": "ipython3",
   "version": "3.8.5"
  }
 },
 "nbformat": 4,
 "nbformat_minor": 4
}
